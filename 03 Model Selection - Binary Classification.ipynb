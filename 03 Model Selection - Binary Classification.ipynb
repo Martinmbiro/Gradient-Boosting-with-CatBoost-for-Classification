{
  "nbformat": 4,
  "nbformat_minor": 0,
  "metadata": {
    "colab": {
      "provenance": [],
      "toc_visible": true,
      "authorship_tag": "ABX9TyMYwB08FPAjIbrPRGh+Yy4E",
      "include_colab_link": true
    },
    "kernelspec": {
      "name": "python3",
      "display_name": "Python 3"
    },
    "language_info": {
      "name": "python"
    }
  },
  "cells": [
    {
      "cell_type": "markdown",
      "metadata": {
        "id": "view-in-github",
        "colab_type": "text"
      },
      "source": [
        "<a href=\"https://colab.research.google.com/github/Martinmbiro/Gradient-Boosting-with-CatBoot-for-Classification/blob/main/03%20Model%20Selection%20-%20Binary%20Classification.ipynb\" target=\"_parent\"><img src=\"https://colab.research.google.com/assets/colab-badge.svg\" alt=\"Open In Colab\"/></a>"
      ]
    },
    {
      "cell_type": "markdown",
      "source": [
        "# **Binary Classification**\n",
        "> ❗ **Recall**\n",
        "+ Since we're only predicting two labels; `0` and `1`, this is a _binary classification_ problem"
      ],
      "metadata": {
        "id": "mqdES0KebdXO"
      }
    },
    {
      "cell_type": "markdown",
      "source": [
        "## Load the data"
      ],
      "metadata": {
        "id": "5qadb2Rnbv2D"
      }
    },
    {
      "cell_type": "code",
      "execution_count": null,
      "metadata": {
        "id": "6LldUPi7Hfb5"
      },
      "outputs": [],
      "source": [
        "# import pandas\n",
        "import pandas as pd\n",
        "\n",
        "# load the training dataset\n",
        "!wget https://raw.githubusercontent.com/MicrosoftDocs/mslearn-introduction-to-machine-learning/main/Data/ml-basics/diabetes.csv\n",
        "diabetes = pd.read_csv('diabetes.csv')"
      ]
    },
    {
      "cell_type": "code",
      "source": [
        "# view dataframe information\n",
        "diabetes.info()"
      ],
      "metadata": {
        "colab": {
          "base_uri": "https://localhost:8080/"
        },
        "id": "iaGnQ0t4f7oD",
        "outputId": "0460c330-679d-4db5-e55a-ccdd0e9d6f8e"
      },
      "execution_count": null,
      "outputs": [
        {
          "output_type": "stream",
          "name": "stdout",
          "text": [
            "<class 'pandas.core.frame.DataFrame'>\n",
            "RangeIndex: 15000 entries, 0 to 14999\n",
            "Data columns (total 10 columns):\n",
            " #   Column                  Non-Null Count  Dtype  \n",
            "---  ------                  --------------  -----  \n",
            " 0   PatientID               15000 non-null  int64  \n",
            " 1   Pregnancies             15000 non-null  int64  \n",
            " 2   PlasmaGlucose           15000 non-null  int64  \n",
            " 3   DiastolicBloodPressure  15000 non-null  int64  \n",
            " 4   TricepsThickness        15000 non-null  int64  \n",
            " 5   SerumInsulin            15000 non-null  int64  \n",
            " 6   BMI                     15000 non-null  float64\n",
            " 7   DiabetesPedigree        15000 non-null  float64\n",
            " 8   Age                     15000 non-null  int64  \n",
            " 9   Diabetic                15000 non-null  int64  \n",
            "dtypes: float64(2), int64(8)\n",
            "memory usage: 1.1 MB\n"
          ]
        }
      ]
    },
    {
      "cell_type": "markdown",
      "source": [
        "> From the previous notebook, we identified the _features_ and _label_ column, hence,  \n",
        "+ Split the dataset into _features_ and _label_\n",
        "+ Split features and label into training and validation sets"
      ],
      "metadata": {
        "id": "566Cc0szb_1I"
      }
    },
    {
      "cell_type": "code",
      "source": [
        "from sklearn.model_selection import train_test_split\n",
        "\n",
        "# Split data into features and labels\n",
        "features = ['Pregnancies','PlasmaGlucose','DiastolicBloodPressure',\n",
        "            'TricepsThickness','SerumInsulin','BMI','DiabetesPedigree','Age']\n",
        "label = 'Diabetic'\n",
        "\n",
        "# features\n",
        "X, y = diabetes[features], diabetes[label]\n",
        "\n",
        "# split into training and validation / test sets:\n",
        "X_train, X_test, y_train, y_test = train_test_split(X, y, test_size=0.3,\n",
        "                                                    random_state=0)\n",
        "\n",
        "# a peek into the features dataframe\n",
        "X.sample(3)"
      ],
      "metadata": {
        "colab": {
          "base_uri": "https://localhost:8080/",
          "height": 163
        },
        "id": "wppq3ZzRb85y",
        "outputId": "a5994e14-3711-44de-cc00-0d4bea3172ab"
      },
      "execution_count": null,
      "outputs": [
        {
          "output_type": "execute_result",
          "data": {
            "text/plain": [
              "       Pregnancies  PlasmaGlucose  DiastolicBloodPressure  TricepsThickness  \\\n",
              "10801            4            170                      83                53   \n",
              "11828            9             89                      52                31   \n",
              "7874             0             68                      78                11   \n",
              "\n",
              "       SerumInsulin        BMI  DiabetesPedigree  Age  \n",
              "10801           440  41.714249          2.284497   61  \n",
              "11828            20  21.798068          0.804318   52  \n",
              "7874            249  21.457434          0.114636   24  "
            ],
            "text/html": [
              "\n",
              "  <div id=\"df-6816cf5a-1c82-4f43-9bd3-2ffe4813edfa\" class=\"colab-df-container\">\n",
              "    <div>\n",
              "<style scoped>\n",
              "    .dataframe tbody tr th:only-of-type {\n",
              "        vertical-align: middle;\n",
              "    }\n",
              "\n",
              "    .dataframe tbody tr th {\n",
              "        vertical-align: top;\n",
              "    }\n",
              "\n",
              "    .dataframe thead th {\n",
              "        text-align: right;\n",
              "    }\n",
              "</style>\n",
              "<table border=\"1\" class=\"dataframe\">\n",
              "  <thead>\n",
              "    <tr style=\"text-align: right;\">\n",
              "      <th></th>\n",
              "      <th>Pregnancies</th>\n",
              "      <th>PlasmaGlucose</th>\n",
              "      <th>DiastolicBloodPressure</th>\n",
              "      <th>TricepsThickness</th>\n",
              "      <th>SerumInsulin</th>\n",
              "      <th>BMI</th>\n",
              "      <th>DiabetesPedigree</th>\n",
              "      <th>Age</th>\n",
              "    </tr>\n",
              "  </thead>\n",
              "  <tbody>\n",
              "    <tr>\n",
              "      <th>10801</th>\n",
              "      <td>4</td>\n",
              "      <td>170</td>\n",
              "      <td>83</td>\n",
              "      <td>53</td>\n",
              "      <td>440</td>\n",
              "      <td>41.714249</td>\n",
              "      <td>2.284497</td>\n",
              "      <td>61</td>\n",
              "    </tr>\n",
              "    <tr>\n",
              "      <th>11828</th>\n",
              "      <td>9</td>\n",
              "      <td>89</td>\n",
              "      <td>52</td>\n",
              "      <td>31</td>\n",
              "      <td>20</td>\n",
              "      <td>21.798068</td>\n",
              "      <td>0.804318</td>\n",
              "      <td>52</td>\n",
              "    </tr>\n",
              "    <tr>\n",
              "      <th>7874</th>\n",
              "      <td>0</td>\n",
              "      <td>68</td>\n",
              "      <td>78</td>\n",
              "      <td>11</td>\n",
              "      <td>249</td>\n",
              "      <td>21.457434</td>\n",
              "      <td>0.114636</td>\n",
              "      <td>24</td>\n",
              "    </tr>\n",
              "  </tbody>\n",
              "</table>\n",
              "</div>\n",
              "    <div class=\"colab-df-buttons\">\n",
              "\n",
              "  <div class=\"colab-df-container\">\n",
              "    <button class=\"colab-df-convert\" onclick=\"convertToInteractive('df-6816cf5a-1c82-4f43-9bd3-2ffe4813edfa')\"\n",
              "            title=\"Convert this dataframe to an interactive table.\"\n",
              "            style=\"display:none;\">\n",
              "\n",
              "  <svg xmlns=\"http://www.w3.org/2000/svg\" height=\"24px\" viewBox=\"0 -960 960 960\">\n",
              "    <path d=\"M120-120v-720h720v720H120Zm60-500h600v-160H180v160Zm220 220h160v-160H400v160Zm0 220h160v-160H400v160ZM180-400h160v-160H180v160Zm440 0h160v-160H620v160ZM180-180h160v-160H180v160Zm440 0h160v-160H620v160Z\"/>\n",
              "  </svg>\n",
              "    </button>\n",
              "\n",
              "  <style>\n",
              "    .colab-df-container {\n",
              "      display:flex;\n",
              "      gap: 12px;\n",
              "    }\n",
              "\n",
              "    .colab-df-convert {\n",
              "      background-color: #E8F0FE;\n",
              "      border: none;\n",
              "      border-radius: 50%;\n",
              "      cursor: pointer;\n",
              "      display: none;\n",
              "      fill: #1967D2;\n",
              "      height: 32px;\n",
              "      padding: 0 0 0 0;\n",
              "      width: 32px;\n",
              "    }\n",
              "\n",
              "    .colab-df-convert:hover {\n",
              "      background-color: #E2EBFA;\n",
              "      box-shadow: 0px 1px 2px rgba(60, 64, 67, 0.3), 0px 1px 3px 1px rgba(60, 64, 67, 0.15);\n",
              "      fill: #174EA6;\n",
              "    }\n",
              "\n",
              "    .colab-df-buttons div {\n",
              "      margin-bottom: 4px;\n",
              "    }\n",
              "\n",
              "    [theme=dark] .colab-df-convert {\n",
              "      background-color: #3B4455;\n",
              "      fill: #D2E3FC;\n",
              "    }\n",
              "\n",
              "    [theme=dark] .colab-df-convert:hover {\n",
              "      background-color: #434B5C;\n",
              "      box-shadow: 0px 1px 3px 1px rgba(0, 0, 0, 0.15);\n",
              "      filter: drop-shadow(0px 1px 2px rgba(0, 0, 0, 0.3));\n",
              "      fill: #FFFFFF;\n",
              "    }\n",
              "  </style>\n",
              "\n",
              "    <script>\n",
              "      const buttonEl =\n",
              "        document.querySelector('#df-6816cf5a-1c82-4f43-9bd3-2ffe4813edfa button.colab-df-convert');\n",
              "      buttonEl.style.display =\n",
              "        google.colab.kernel.accessAllowed ? 'block' : 'none';\n",
              "\n",
              "      async function convertToInteractive(key) {\n",
              "        const element = document.querySelector('#df-6816cf5a-1c82-4f43-9bd3-2ffe4813edfa');\n",
              "        const dataTable =\n",
              "          await google.colab.kernel.invokeFunction('convertToInteractive',\n",
              "                                                    [key], {});\n",
              "        if (!dataTable) return;\n",
              "\n",
              "        const docLinkHtml = 'Like what you see? Visit the ' +\n",
              "          '<a target=\"_blank\" href=https://colab.research.google.com/notebooks/data_table.ipynb>data table notebook</a>'\n",
              "          + ' to learn more about interactive tables.';\n",
              "        element.innerHTML = '';\n",
              "        dataTable['output_type'] = 'display_data';\n",
              "        await google.colab.output.renderOutput(dataTable, element);\n",
              "        const docLink = document.createElement('div');\n",
              "        docLink.innerHTML = docLinkHtml;\n",
              "        element.appendChild(docLink);\n",
              "      }\n",
              "    </script>\n",
              "  </div>\n",
              "\n",
              "\n",
              "<div id=\"df-7486eca4-22f9-41d0-a77c-528d8afaea05\">\n",
              "  <button class=\"colab-df-quickchart\" onclick=\"quickchart('df-7486eca4-22f9-41d0-a77c-528d8afaea05')\"\n",
              "            title=\"Suggest charts\"\n",
              "            style=\"display:none;\">\n",
              "\n",
              "<svg xmlns=\"http://www.w3.org/2000/svg\" height=\"24px\"viewBox=\"0 0 24 24\"\n",
              "     width=\"24px\">\n",
              "    <g>\n",
              "        <path d=\"M19 3H5c-1.1 0-2 .9-2 2v14c0 1.1.9 2 2 2h14c1.1 0 2-.9 2-2V5c0-1.1-.9-2-2-2zM9 17H7v-7h2v7zm4 0h-2V7h2v10zm4 0h-2v-4h2v4z\"/>\n",
              "    </g>\n",
              "</svg>\n",
              "  </button>\n",
              "\n",
              "<style>\n",
              "  .colab-df-quickchart {\n",
              "      --bg-color: #E8F0FE;\n",
              "      --fill-color: #1967D2;\n",
              "      --hover-bg-color: #E2EBFA;\n",
              "      --hover-fill-color: #174EA6;\n",
              "      --disabled-fill-color: #AAA;\n",
              "      --disabled-bg-color: #DDD;\n",
              "  }\n",
              "\n",
              "  [theme=dark] .colab-df-quickchart {\n",
              "      --bg-color: #3B4455;\n",
              "      --fill-color: #D2E3FC;\n",
              "      --hover-bg-color: #434B5C;\n",
              "      --hover-fill-color: #FFFFFF;\n",
              "      --disabled-bg-color: #3B4455;\n",
              "      --disabled-fill-color: #666;\n",
              "  }\n",
              "\n",
              "  .colab-df-quickchart {\n",
              "    background-color: var(--bg-color);\n",
              "    border: none;\n",
              "    border-radius: 50%;\n",
              "    cursor: pointer;\n",
              "    display: none;\n",
              "    fill: var(--fill-color);\n",
              "    height: 32px;\n",
              "    padding: 0;\n",
              "    width: 32px;\n",
              "  }\n",
              "\n",
              "  .colab-df-quickchart:hover {\n",
              "    background-color: var(--hover-bg-color);\n",
              "    box-shadow: 0 1px 2px rgba(60, 64, 67, 0.3), 0 1px 3px 1px rgba(60, 64, 67, 0.15);\n",
              "    fill: var(--button-hover-fill-color);\n",
              "  }\n",
              "\n",
              "  .colab-df-quickchart-complete:disabled,\n",
              "  .colab-df-quickchart-complete:disabled:hover {\n",
              "    background-color: var(--disabled-bg-color);\n",
              "    fill: var(--disabled-fill-color);\n",
              "    box-shadow: none;\n",
              "  }\n",
              "\n",
              "  .colab-df-spinner {\n",
              "    border: 2px solid var(--fill-color);\n",
              "    border-color: transparent;\n",
              "    border-bottom-color: var(--fill-color);\n",
              "    animation:\n",
              "      spin 1s steps(1) infinite;\n",
              "  }\n",
              "\n",
              "  @keyframes spin {\n",
              "    0% {\n",
              "      border-color: transparent;\n",
              "      border-bottom-color: var(--fill-color);\n",
              "      border-left-color: var(--fill-color);\n",
              "    }\n",
              "    20% {\n",
              "      border-color: transparent;\n",
              "      border-left-color: var(--fill-color);\n",
              "      border-top-color: var(--fill-color);\n",
              "    }\n",
              "    30% {\n",
              "      border-color: transparent;\n",
              "      border-left-color: var(--fill-color);\n",
              "      border-top-color: var(--fill-color);\n",
              "      border-right-color: var(--fill-color);\n",
              "    }\n",
              "    40% {\n",
              "      border-color: transparent;\n",
              "      border-right-color: var(--fill-color);\n",
              "      border-top-color: var(--fill-color);\n",
              "    }\n",
              "    60% {\n",
              "      border-color: transparent;\n",
              "      border-right-color: var(--fill-color);\n",
              "    }\n",
              "    80% {\n",
              "      border-color: transparent;\n",
              "      border-right-color: var(--fill-color);\n",
              "      border-bottom-color: var(--fill-color);\n",
              "    }\n",
              "    90% {\n",
              "      border-color: transparent;\n",
              "      border-bottom-color: var(--fill-color);\n",
              "    }\n",
              "  }\n",
              "</style>\n",
              "\n",
              "  <script>\n",
              "    async function quickchart(key) {\n",
              "      const quickchartButtonEl =\n",
              "        document.querySelector('#' + key + ' button');\n",
              "      quickchartButtonEl.disabled = true;  // To prevent multiple clicks.\n",
              "      quickchartButtonEl.classList.add('colab-df-spinner');\n",
              "      try {\n",
              "        const charts = await google.colab.kernel.invokeFunction(\n",
              "            'suggestCharts', [key], {});\n",
              "      } catch (error) {\n",
              "        console.error('Error during call to suggestCharts:', error);\n",
              "      }\n",
              "      quickchartButtonEl.classList.remove('colab-df-spinner');\n",
              "      quickchartButtonEl.classList.add('colab-df-quickchart-complete');\n",
              "    }\n",
              "    (() => {\n",
              "      let quickchartButtonEl =\n",
              "        document.querySelector('#df-7486eca4-22f9-41d0-a77c-528d8afaea05 button');\n",
              "      quickchartButtonEl.style.display =\n",
              "        google.colab.kernel.accessAllowed ? 'block' : 'none';\n",
              "    })();\n",
              "  </script>\n",
              "</div>\n",
              "\n",
              "    </div>\n",
              "  </div>\n"
            ],
            "application/vnd.google.colaboratory.intrinsic+json": {
              "type": "dataframe",
              "summary": "{\n  \"name\": \"X\",\n  \"rows\": 3,\n  \"fields\": [\n    {\n      \"column\": \"Pregnancies\",\n      \"properties\": {\n        \"dtype\": \"number\",\n        \"std\": 4,\n        \"min\": 0,\n        \"max\": 9,\n        \"num_unique_values\": 3,\n        \"samples\": [\n          4,\n          9,\n          0\n        ],\n        \"semantic_type\": \"\",\n        \"description\": \"\"\n      }\n    },\n    {\n      \"column\": \"PlasmaGlucose\",\n      \"properties\": {\n        \"dtype\": \"number\",\n        \"std\": 53,\n        \"min\": 68,\n        \"max\": 170,\n        \"num_unique_values\": 3,\n        \"samples\": [\n          170,\n          89,\n          68\n        ],\n        \"semantic_type\": \"\",\n        \"description\": \"\"\n      }\n    },\n    {\n      \"column\": \"DiastolicBloodPressure\",\n      \"properties\": {\n        \"dtype\": \"number\",\n        \"std\": 16,\n        \"min\": 52,\n        \"max\": 83,\n        \"num_unique_values\": 3,\n        \"samples\": [\n          83,\n          52,\n          78\n        ],\n        \"semantic_type\": \"\",\n        \"description\": \"\"\n      }\n    },\n    {\n      \"column\": \"TricepsThickness\",\n      \"properties\": {\n        \"dtype\": \"number\",\n        \"std\": 21,\n        \"min\": 11,\n        \"max\": 53,\n        \"num_unique_values\": 3,\n        \"samples\": [\n          53,\n          31,\n          11\n        ],\n        \"semantic_type\": \"\",\n        \"description\": \"\"\n      }\n    },\n    {\n      \"column\": \"SerumInsulin\",\n      \"properties\": {\n        \"dtype\": \"number\",\n        \"std\": 210,\n        \"min\": 20,\n        \"max\": 440,\n        \"num_unique_values\": 3,\n        \"samples\": [\n          440,\n          20,\n          249\n        ],\n        \"semantic_type\": \"\",\n        \"description\": \"\"\n      }\n    },\n    {\n      \"column\": \"BMI\",\n      \"properties\": {\n        \"dtype\": \"number\",\n        \"std\": 11.598195892741728,\n        \"min\": 21.45743361,\n        \"max\": 41.71424933,\n        \"num_unique_values\": 3,\n        \"samples\": [\n          41.71424933,\n          21.79806815,\n          21.45743361\n        ],\n        \"semantic_type\": \"\",\n        \"description\": \"\"\n      }\n    },\n    {\n      \"column\": \"DiabetesPedigree\",\n      \"properties\": {\n        \"dtype\": \"number\",\n        \"std\": 1.1086693431118089,\n        \"min\": 0.114636441,\n        \"max\": 2.284497129,\n        \"num_unique_values\": 3,\n        \"samples\": [\n          2.284497129,\n          0.804318024,\n          0.114636441\n        ],\n        \"semantic_type\": \"\",\n        \"description\": \"\"\n      }\n    },\n    {\n      \"column\": \"Age\",\n      \"properties\": {\n        \"dtype\": \"number\",\n        \"std\": 19,\n        \"min\": 24,\n        \"max\": 61,\n        \"num_unique_values\": 3,\n        \"samples\": [\n          61,\n          52,\n          24\n        ],\n        \"semantic_type\": \"\",\n        \"description\": \"\"\n      }\n    }\n  ]\n}"
            }
          },
          "metadata": {},
          "execution_count": 43
        }
      ]
    },
    {
      "cell_type": "markdown",
      "source": [
        "> Specify Indices of _categorical_ and _numeric_ features for the sake of preprocessing"
      ],
      "metadata": {
        "id": "r1boEzhga6Aj"
      }
    },
    {
      "cell_type": "code",
      "source": [
        "# numeric\n",
        "num_feature_indices = [0, 1, 2, 3, 4, 5, 6]\n",
        "\n",
        "# !Recall Age will be considered a categorical feature\n",
        "cat_feature_indices = [7]"
      ],
      "metadata": {
        "id": "gn_8CUHAaXsA"
      },
      "execution_count": null,
      "outputs": []
    },
    {
      "cell_type": "markdown",
      "source": [
        "## Preprocessing [`pipeline`](https://scikit-learn.org/stable/modules/generated/sklearn.pipeline.Pipeline.html)\n",
        "> Numerical and categorical _transformers_ will be wrapped within a [`ColumnTransformer`](https://scikit-learn.org/stable/modules/generated/sklearn.compose.ColumnTransformer.html)  \n",
        "+ To do this, a [`pipeline`](https://scikit-learn.org/stable/modules/generated/sklearn.pipeline.Pipeline.html) object will be created using [`make_pipeline`](https://scikit-learn.org/stable/modules/generated/sklearn.pipeline.make_pipeline.html) and a [`ColumnTransformer`](https://scikit-learn.org/stable/modules/generated/sklearn.compose.ColumnTransformer.html) object will be created using [`make_column_transformer`](https://scikit-learn.org/stable/modules/generated/sklearn.compose.make_column_transformer.html)"
      ],
      "metadata": {
        "id": "zMJwNl7MbhZt"
      }
    },
    {
      "cell_type": "code",
      "source": [
        "# import necessary libraries\n",
        "from sklearn.compose import make_column_transformer\n",
        "from sklearn.pipeline import make_pipeline\n",
        "from sklearn.impute import SimpleImputer\n",
        "from sklearn.preprocessing import StandardScaler\n",
        "from sklearn.preprocessing import OneHotEncoder"
      ],
      "metadata": {
        "id": "OBKLJNp-exe5"
      },
      "execution_count": null,
      "outputs": []
    },
    {
      "cell_type": "code",
      "source": [
        "# for categorical features\n",
        "num_transformer = make_pipeline(\n",
        "    # list of transformer objects to be applied\n",
        "    SimpleImputer(strategy='median'), # handle missing values if any\n",
        "    StandardScaler() # scale\n",
        ")\n",
        "\n",
        "# for numeric features\n",
        "cat_transformer = make_pipeline(\n",
        "    # list of transformer objects to be applied\n",
        "    SimpleImputer(strategy='most_frequent'), # handle missing values if any\n",
        "    OneHotEncoder(handle_unknown='ignore') # encode\n",
        ")\n",
        "\n",
        "# wrap the above transformers withing a ColumnTransformer\n",
        "preprocesser = make_column_transformer(\n",
        "    # (transformer, columns)\n",
        "    (cat_transformer, cat_feature_indices), # categorical columns\n",
        "    (num_transformer, num_feature_indices) # numeric columns\n",
        ")"
      ],
      "metadata": {
        "id": "ek-5F_cxZzxy"
      },
      "execution_count": null,
      "outputs": []
    },
    {
      "cell_type": "markdown",
      "source": [
        "## [`RandomForestClassifier`](https://scikit-learn.org/stable/modules/generated/sklearn.ensemble.RandomForestClassifier.html)\n",
        "+ We'll train a `RandomForestClassifier` using its default parameters\n",
        "+ Then we'll evaluate the model using classification evaluation metrics"
      ],
      "metadata": {
        "id": "OeBTxgw0fial"
      }
    },
    {
      "cell_type": "code",
      "source": [
        "# import RandomForestClassifier\n",
        "from sklearn.ensemble import RandomForestClassifier\n",
        "from sklearn.pipeline import Pipeline"
      ],
      "metadata": {
        "id": "_uktLnDdfaGu"
      },
      "execution_count": null,
      "outputs": []
    },
    {
      "cell_type": "markdown",
      "source": [
        "### **Create and train model**"
      ],
      "metadata": {
        "id": "rTc-O_sHef9d"
      }
    },
    {
      "cell_type": "code",
      "source": [
        "%%time\n",
        "# Pipeline with preprocesser + model\n",
        "forest_model = Pipeline(steps=[\n",
        "    # (name, transformer/estimator)\n",
        "    ('preprocess', preprocesser), # pre-process\n",
        "    ('rfc', RandomForestClassifier(n_jobs=-1)) # estimator\n",
        "])\n",
        "\n",
        "# train the model\n",
        "forest_model.fit(X_train, y_train)\n",
        "\n",
        "# make predictions\n",
        "y_pred = forest_model.predict(X_test)"
      ],
      "metadata": {
        "colab": {
          "base_uri": "https://localhost:8080/"
        },
        "id": "gCq5doFYfwdI",
        "outputId": "a8481258-dbd2-430a-ec53-906186ca0014"
      },
      "execution_count": null,
      "outputs": [
        {
          "output_type": "stream",
          "name": "stdout",
          "text": [
            "CPU times: user 5.49 s, sys: 40.6 ms, total: 5.54 s\n",
            "Wall time: 3.49 s\n"
          ]
        }
      ]
    },
    {
      "cell_type": "markdown",
      "source": [
        "### **Evaluate**\n",
        "> For in-depth coverage on classification metrics, see my repository linked [`here`](https://github.com/Martinmbiro/Imbalanced-Datasets-and-Evaluating-Classification-Models)"
      ],
      "metadata": {
        "id": "mGZnsnn7gDGb"
      }
    },
    {
      "cell_type": "code",
      "source": [
        "# import necessary libraries\n",
        "from sklearn.metrics import RocCurveDisplay\n",
        "import matplotlib.pyplot as plt\n",
        "from sklearn.metrics import ConfusionMatrixDisplay\n",
        "from sklearn.metrics import classification_report"
      ],
      "metadata": {
        "id": "khu_vEO8giQa"
      },
      "execution_count": null,
      "outputs": []
    },
    {
      "cell_type": "code",
      "source": [
        "# define function to plot confusion_matrix\n",
        "def plot_confusion_matrix(y_test, y_pred):\n",
        "  # specify stylesheet\n",
        "  plt.style.use('fast')\n",
        "\n",
        "  # define figure and Axes\n",
        "  fig, ax = plt.subplots(figsize=(3, 3), layout='constrained')\n",
        "\n",
        "  # plot confusion_matrix\n",
        "  ConfusionMatrixDisplay.from_predictions(y_test, y_pred,\n",
        "                                          cmap='Blues',\n",
        "                                          colorbar=False,\n",
        "                                          ax=ax)\n",
        "\n",
        "  # move xticks and xlabel to top\n",
        "  ax.xaxis.tick_top()\n",
        "  ax.xaxis.set_label_position('top')\n",
        "\n",
        "  # modify xlabel and ylabel colors\n",
        "  ax.set_ylabel('Actual Labels', weight='black', color='#003262')\n",
        "  ax.set_xlabel('Predicted Labels', weight='black', color='#E52B50')\n",
        "\n",
        "  plt.show()"
      ],
      "metadata": {
        "id": "19KrnFxJYuzd"
      },
      "execution_count": null,
      "outputs": []
    },
    {
      "cell_type": "code",
      "source": [
        "# define function for plotting ROC curve and displaying AUC on legend\n",
        "def plot_roc_curve(model, X_test, y_test):\n",
        "  # specify figure and Axes\n",
        "  fig, ax = plt.subplots(figsize=(3.7, 3.7), layout='constrained')\n",
        "\n",
        "  # plot roc_curve\n",
        "  RocCurveDisplay.from_estimator(model, X_test, y_test,\n",
        "                                  drop_intermediate=False,\n",
        "                                  plot_chance_level=False,\n",
        "                                  pos_label=1,\n",
        "                                  name = 'Model',\n",
        "                                  color='#3457d5', linewidth=1.6,\n",
        "                                  ax=ax)\n",
        "  # title and labels:\n",
        "  ax.set_ylabel('True Positive Rate', weight='black')\n",
        "  ax.set_xlabel('False Positive Rate', weight='black')\n",
        "  ax.set_title('ROC Curve & AUC (On the Legend)', fontsize=10.5)\n",
        "  # legend fontsize\n",
        "  ax.legend(fontsize=9)\n",
        "\n",
        "  plt.show()"
      ],
      "metadata": {
        "id": "gSjVnWo5jEJH"
      },
      "execution_count": null,
      "outputs": []
    },
    {
      "cell_type": "markdown",
      "source": [
        "#### Visualize `confusion_matrix` using [`ConfusionMatrixDisplay`](https://scikit-learn.org/stable/modules/generated/sklearn.metrics.ConfusionMatrixDisplay.html)"
      ],
      "metadata": {
        "id": "2JBjSKlFgHFG"
      }
    },
    {
      "cell_type": "code",
      "source": [
        "plot_confusion_matrix(y_test, y_pred)"
      ],
      "metadata": {
        "colab": {
          "base_uri": "https://localhost:8080/",
          "height": 328
        },
        "id": "r4FbsYrigGGw",
        "outputId": "9e4a0671-d9be-46cd-b05d-88e10ebee94a"
      },
      "execution_count": null,
      "outputs": [
        {
          "output_type": "display_data",
          "data": {
            "text/plain": [
              "<Figure size 300x300 with 1 Axes>"
            ],
            "image/png": "[encoded data removed]"
          },
          "metadata": {}
        }
      ]
    },
    {
      "cell_type": "code",
      "source": [
        "# actual distribution of labels in test-set (y_test)\n",
        "y_test.value_counts()"
      ],
      "metadata": {
        "colab": {
          "base_uri": "https://localhost:8080/",
          "height": 178
        },
        "id": "v2kjbFWgaN3O",
        "outputId": "e622316f-e7db-41fd-9467-8db95171c90a"
      },
      "execution_count": null,
      "outputs": [
        {
          "output_type": "execute_result",
          "data": {
            "text/plain": [
              "Diabetic\n",
              "0    2986\n",
              "1    1514\n",
              "Name: count, dtype: int64"
            ],
            "text/html": [
              "<table border=\"1\" class=\"dataframe\">\n",
              "  <thead>\n",
              "    <tr style=\"text-align: right;\">\n",
              "      <th></th>\n",
              "      <th>count</th>\n",
              "    </tr>\n",
              "    <tr>\n",
              "      <th>Diabetic</th>\n",
              "      <th></th>\n",
              "    </tr>\n",
              "  </thead>\n",
              "  <tbody>\n",
              "    <tr>\n",
              "      <th>0</th>\n",
              "      <td>2986</td>\n",
              "    </tr>\n",
              "    <tr>\n",
              "      <th>1</th>\n",
              "      <td>1514</td>\n",
              "    </tr>\n",
              "  </tbody>\n",
              "</table><br><label><b>dtype:</b> int64</label>"
            ]
          },
          "metadata": {},
          "execution_count": 12
        }
      ]
    },
    {
      "cell_type": "markdown",
      "source": [
        "#### [`classification_report`](https://scikit-learn.org/stable/modules/generated/sklearn.metrics.classification_report.html)"
      ],
      "metadata": {
        "id": "z1ND-9kWZaGO"
      }
    },
    {
      "cell_type": "code",
      "source": [
        "# generate\n",
        "cr = classification_report(y_test, y_pred)\n",
        "\n",
        "# print\n",
        "print(cr)"
      ],
      "metadata": {
        "colab": {
          "base_uri": "https://localhost:8080/"
        },
        "id": "5UHVgARYZivd",
        "outputId": "2f7c1a35-a79f-4ab6-dcde-275629b69121"
      },
      "execution_count": null,
      "outputs": [
        {
          "output_type": "stream",
          "name": "stdout",
          "text": [
            "              precision    recall  f1-score   support\n",
            "\n",
            "           0       0.94      0.96      0.95      2986\n",
            "           1       0.91      0.88      0.89      1514\n",
            "\n",
            "    accuracy                           0.93      4500\n",
            "   macro avg       0.93      0.92      0.92      4500\n",
            "weighted avg       0.93      0.93      0.93      4500\n",
            "\n"
          ]
        }
      ]
    },
    {
      "cell_type": "markdown",
      "source": [
        "#### Visualize [`roc_curve`](https://scikit-learn.org/stable/modules/generated/sklearn.metrics.roc_curve.html#sklearn.metrics.roc_curve) and [`roc_auc_score`](https://scikit-learn.org/stable/modules/generated/sklearn.metrics.roc_auc_score.html#sklearn.metrics.roc_auc_score)\n",
        "> ❗ **Note**\n",
        "+ This implementation of [`roc_curve`](https://scikit-learn.org/stable/modules/generated/sklearn.metrics.roc_curve.html#sklearn.metrics.roc_curve) is restricted to the binary classification task"
      ],
      "metadata": {
        "id": "enB2nq0EbgTY"
      }
    },
    {
      "cell_type": "code",
      "source": [
        "plot_roc_curve(forest_model, X_test, y_test)"
      ],
      "metadata": {
        "colab": {
          "base_uri": "https://localhost:8080/",
          "height": 398
        },
        "id": "Ad0J6VBsbViG",
        "outputId": "5bd7017f-7d6c-4426-e6cf-21980a7847c4"
      },
      "execution_count": null,
      "outputs": [
        {
          "output_type": "display_data",
          "data": {
            "text/plain": [
              "<Figure size 370x370 with 1 Axes>"
            ],
            "image/png": "[encoded data removed]"
          },
          "metadata": {}
        }
      ]
    },
    {
      "cell_type": "markdown",
      "source": [
        "## Resolving the Bias - possibly\n",
        "> ❗ **Recall**\n",
        "+ We're working with an _imbalanced_ dataset since the label `1` is under-represented in the dataset, compared to the `0` label. So we'll try and balance them"
      ],
      "metadata": {
        "id": "qPXa7WfAcJbd"
      }
    },
    {
      "cell_type": "markdown",
      "source": [
        "### **Visualize imbalance**\n",
        "> Visualize the class imbalance in the _training_ dataset, `y_train`"
      ],
      "metadata": {
        "id": "r50JTFSxdZ3r"
      }
    },
    {
      "cell_type": "code",
      "source": [
        "# value_counts\n",
        "y_train.value_counts()"
      ],
      "metadata": {
        "colab": {
          "base_uri": "https://localhost:8080/",
          "height": 178
        },
        "id": "UeC6gJVQdVFv",
        "outputId": "7dec1708-0bec-4c82-b853-9b2087f969b4"
      },
      "execution_count": null,
      "outputs": [
        {
          "output_type": "execute_result",
          "data": {
            "text/plain": [
              "Diabetic\n",
              "0    7014\n",
              "1    3486\n",
              "Name: count, dtype: int64"
            ],
            "text/html": [
              "<table border=\"1\" class=\"dataframe\">\n",
              "  <thead>\n",
              "    <tr style=\"text-align: right;\">\n",
              "      <th></th>\n",
              "      <th>count</th>\n",
              "    </tr>\n",
              "    <tr>\n",
              "      <th>Diabetic</th>\n",
              "      <th></th>\n",
              "    </tr>\n",
              "  </thead>\n",
              "  <tbody>\n",
              "    <tr>\n",
              "      <th>0</th>\n",
              "      <td>7014</td>\n",
              "    </tr>\n",
              "    <tr>\n",
              "      <th>1</th>\n",
              "      <td>3486</td>\n",
              "    </tr>\n",
              "  </tbody>\n",
              "</table><br><label><b>dtype:</b> int64</label>"
            ]
          },
          "metadata": {},
          "execution_count": 15
        }
      ]
    },
    {
      "cell_type": "code",
      "source": [
        "# plot the value counts of each class in y_train\n",
        "y_train.value_counts().plot.bar(figsize=(3.0, 3.0),\n",
        "                                layout='constrained',\n",
        "                                color=['#b0c4b1', '#edafbb'],\n",
        "                                rot = 0)\n",
        "\n",
        "plt.ylabel('Patient count')\n",
        "plt.xlabel('Diabetic', weight='black')\n",
        "plt.title('y_train class distribution', fontsize=10.5)\n",
        "plt.show()"
      ],
      "metadata": {
        "colab": {
          "base_uri": "https://localhost:8080/",
          "height": 331
        },
        "id": "igUXURBOdiQG",
        "outputId": "64e6c6d4-6624-4de2-ecdb-d8b14799d82c"
      },
      "execution_count": null,
      "outputs": [
        {
          "output_type": "display_data",
          "data": {
            "text/plain": [
              "<Figure size 300x300 with 1 Axes>"
            ],
            "image/png": "[encoded data removed]"
          },
          "metadata": {}
        }
      ]
    },
    {
      "cell_type": "markdown",
      "source": [
        "### **Oversampling**  \n",
        "+ Here, various _oversampling_ techniques were implemented on the training set to ensure classes were equally represented"
      ],
      "metadata": {
        "id": "OewhMelRf1tN"
      }
    },
    {
      "cell_type": "code",
      "source": [
        "# import libraries\n",
        "from sklearn.preprocessing import OrdinalEncoder\n",
        "from imblearn.over_sampling import SVMSMOTE\n",
        "from imblearn.over_sampling import SMOTENC\n",
        "from imblearn.over_sampling import KMeansSMOTE\n",
        "from imblearn.over_sampling import ADASYN\n",
        "from imblearn.over_sampling import BorderlineSMOTE"
      ],
      "metadata": {
        "id": "seRfjGDHhb4B"
      },
      "execution_count": null,
      "outputs": []
    },
    {
      "cell_type": "markdown",
      "source": [
        "#### Encoding the `Age` column in the `X_train`"
      ],
      "metadata": {
        "id": "RHCClTKdYSD_"
      }
    },
    {
      "cell_type": "code",
      "source": [
        "# make a copy of X_train\n",
        "X_train_copy = X_train.copy()\n",
        "\n",
        "# OrdinalEncoder object\n",
        "encoder = OrdinalEncoder(handle_unknown = 'use_encoded_value',\n",
        "                         unknown_value=1000)\n",
        "\n",
        "# encode the Age column\n",
        "X_train_copy[['Age']] = encoder.fit_transform(X_train_copy[['Age']])"
      ],
      "metadata": {
        "id": "Yww-hKI1c4Gm"
      },
      "execution_count": null,
      "outputs": []
    },
    {
      "cell_type": "markdown",
      "source": [
        "#### [`imblearn.over_sampling.BorderlineSMOTE`](https://imbalanced-learn.org/stable/references/generated/imblearn.over_sampling.BorderlineSMOTE.html)"
      ],
      "metadata": {
        "id": "u5fVTIkxYdkL"
      }
    },
    {
      "cell_type": "code",
      "source": [
        "# create BorderlineSMOTE object\n",
        "blsmote = BorderlineSMOTE(random_state=42)\n",
        "\n",
        "# resample\n",
        "X_res, y_res = blsmote.fit_resample(X_train_copy, y_train)\n",
        "\n",
        "# inverse_transform the Age column\n",
        "X_res[['Age']] = encoder.inverse_transform(X_res[['Age']])"
      ],
      "metadata": {
        "id": "rZ4NtJvViTSK"
      },
      "execution_count": null,
      "outputs": []
    },
    {
      "cell_type": "markdown",
      "source": [
        "#### [`imblearn.over_sampling.KMeansSMOTE`](https://imbalanced-learn.org/stable/references/generated/imblearn.over_sampling.KMeansSMOTE.html)"
      ],
      "metadata": {
        "id": "jQ4d-gG9YnIM"
      }
    },
    {
      "cell_type": "code",
      "source": [
        "# create KMeansSMOTE object\n",
        "ksmote = KMeansSMOTE(random_state=42,\n",
        "                     k_neighbors=2,\n",
        "                     kmeans_estimator=MiniBatchKMeans(n_init=2))\n",
        "\n",
        "# resample\n",
        "X_res, y_res = ksmote.fit_resample(X_train_copy, y_train)\n",
        "\n",
        "# inverse_transform the Age column\n",
        "X_res[['Age']] = encoder.inverse_transform(X_res[['Age']])"
      ],
      "metadata": {
        "id": "X0aescGubI-g"
      },
      "execution_count": null,
      "outputs": []
    },
    {
      "cell_type": "markdown",
      "source": [
        "#### [`imblearn.over_sampling.ADASYN`](https://imbalanced-learn.org/stable/references/generated/imblearn.over_sampling.ADASYN.html)"
      ],
      "metadata": {
        "id": "SwYpam9NYxyd"
      }
    },
    {
      "cell_type": "code",
      "source": [
        "# create ADASYN object\n",
        "adasyn = ADASYN(random_state=42)\n",
        "\n",
        "# resample\n",
        "X_res, y_res = adasyn.fit_resample(X_train_copy, y_train)\n",
        "\n",
        "# inverse_transform the Age column\n",
        "X_res[['Age']] = encoder.inverse_transform(X_res[['Age']])"
      ],
      "metadata": {
        "id": "rOTUhokqaFG3"
      },
      "execution_count": null,
      "outputs": []
    },
    {
      "cell_type": "markdown",
      "source": [
        "#### [`imblearn.over_sampling.SMOTENC`](https://imbalanced-learn.org/stable/references/generated/imblearn.over_sampling.SMOTENC.html)"
      ],
      "metadata": {
        "id": "wAIMTzrnZEhZ"
      }
    },
    {
      "cell_type": "code",
      "source": [
        "# create SMOTENC object\n",
        "smotenc = SMOTENC(categorical_features=cat_feature_indices,\n",
        "                       random_state=42)\n",
        "\n",
        "# resample\n",
        "X_res, y_res = smotenc.fit_resample(X_train, y_train)"
      ],
      "metadata": {
        "id": "iPXbxN0Mk8lv"
      },
      "execution_count": null,
      "outputs": []
    },
    {
      "cell_type": "markdown",
      "source": [
        "#### [`imblearn.over_sampling.SVMSMOTE`](https://imbalanced-learn.org/stable/references/generated/imblearn.over_sampling.SVMSMOTE.html)"
      ],
      "metadata": {
        "id": "h1cPZREZZSBO"
      }
    },
    {
      "cell_type": "code",
      "source": [
        "# create SVMSMOTE object\n",
        "svmsmote = SVMSMOTE(random_state=42)\n",
        "\n",
        "# resample\n",
        "X_res, y_res = svmsmote.fit_resample(X_train_copy, y_train)\n",
        "\n",
        "# inverse_transform the Age column\n",
        "X_res[['Age']] = encoder.inverse_transform(X_res[['Age']])"
      ],
      "metadata": {
        "id": "on8Wiu4kh1cb"
      },
      "execution_count": null,
      "outputs": []
    },
    {
      "cell_type": "markdown",
      "source": [
        "> ✋ **Disclaimer**  \n",
        "+ No _undersampling_ methods were used, as this would still introduce imbalances in the resampled set used for training\n",
        "+ Since this is a _medical diagnostics problem_, I chose the resampling method that maximized [`recall_score`](https://scikit-learn.org/stable/modules/generated/sklearn.metrics.recall_score.html#sklearn.metrics.recall_score) and significantly reduced `FN` since in this case, the cost of missing the disease `(FN)` would be costlier than falsely diagnosing it `(FP)`\n",
        "+ Out of all the oversampling methods tried above, `SVMSMOTE` produced the best results in the classification report"
      ],
      "metadata": {
        "id": "CWVGJKGufQBB"
      }
    },
    {
      "cell_type": "markdown",
      "source": [
        "#### Visualize class distribution post-resampling"
      ],
      "metadata": {
        "id": "eKv0OJPkZ-kU"
      }
    },
    {
      "cell_type": "code",
      "source": [
        "# plot the value count of each class in y_res\n",
        "y_res.value_counts().plot.bar(figsize=(3.0, 3.0),\n",
        "                                layout='constrained',\n",
        "                                color=['#b0c4b1', '#edafbb'],\n",
        "                                rot = 0)\n",
        "\n",
        "plt.ylabel('Patient count')\n",
        "plt.xlabel('Diabetic', weight='black')\n",
        "plt.title('y_res class distribution', fontsize=10.5)\n",
        "plt.show()"
      ],
      "metadata": {
        "colab": {
          "base_uri": "https://localhost:8080/",
          "height": 331
        },
        "id": "URrPE5zDYwHN",
        "outputId": "142fb7bf-4400-4849-9c61-932f6e0e8b51"
      },
      "execution_count": null,
      "outputs": [
        {
          "output_type": "display_data",
          "data": {
            "text/plain": [
              "<Figure size 300x300 with 1 Axes>"
            ],
            "image/png": "[encoded data removed]"
          },
          "metadata": {}
        }
      ]
    },
    {
      "cell_type": "markdown",
      "source": [
        "### **Modelling with the oversampled data**"
      ],
      "metadata": {
        "id": "C2QAJOvWZ88E"
      }
    },
    {
      "cell_type": "code",
      "source": [
        "%%time\n",
        "# pipeline with preprocesser + estimator\n",
        "forest_model2 = Pipeline(steps=[\n",
        "    #(name, transformer/estimator)\n",
        "    ('preprocess', preprocesser),\n",
        "    ('rfc', RandomForestClassifier(n_jobs=-1,\n",
        "                                   random_state=72))\n",
        "])\n",
        "\n",
        "# train the model\n",
        "forest_model2.fit(X_res, y_res)\n",
        "\n",
        "# predict\n",
        "y_pred2 = forest_model2.predict(X_test)"
      ],
      "metadata": {
        "colab": {
          "base_uri": "https://localhost:8080/"
        },
        "id": "0U00D_tHZjOG",
        "outputId": "a569c9ac-395d-4edd-c246-e63a52b9d4df"
      },
      "execution_count": null,
      "outputs": [
        {
          "output_type": "stream",
          "name": "stdout",
          "text": [
            "CPU times: user 8.6 s, sys: 43 ms, total: 8.65 s\n",
            "Wall time: 6.4 s\n"
          ]
        }
      ]
    },
    {
      "cell_type": "markdown",
      "source": [
        "#### Visualize `confusion_matrix`"
      ],
      "metadata": {
        "id": "MiliUsInd0hn"
      }
    },
    {
      "cell_type": "code",
      "source": [
        "# confusion matrix\n",
        "plot_confusion_matrix(y_test, y_pred2)"
      ],
      "metadata": {
        "colab": {
          "base_uri": "https://localhost:8080/",
          "height": 328
        },
        "id": "DuO180nobEUP",
        "outputId": "9cbfb955-fd30-4574-fdfd-16a7262b229c"
      },
      "execution_count": null,
      "outputs": [
        {
          "output_type": "display_data",
          "data": {
            "text/plain": [
              "<Figure size 300x300 with 1 Axes>"
            ],
            "image/png": "[encoded data removed]"
          },
          "metadata": {}
        }
      ]
    },
    {
      "cell_type": "markdown",
      "source": [
        "#### [`classification_report`](https://scikit-learn.org/stable/modules/generated/sklearn.metrics.classification_report.html)"
      ],
      "metadata": {
        "id": "4E2ypZ7reCaF"
      }
    },
    {
      "cell_type": "code",
      "source": [
        "# classification report\n",
        "print(classification_report(y_test, y_pred2))"
      ],
      "metadata": {
        "colab": {
          "base_uri": "https://localhost:8080/"
        },
        "id": "Hjf88hVLbQHt",
        "outputId": "612b8074-b240-4282-b17d-158df5a6b4d2"
      },
      "execution_count": null,
      "outputs": [
        {
          "output_type": "stream",
          "name": "stdout",
          "text": [
            "              precision    recall  f1-score   support\n",
            "\n",
            "           0       0.96      0.93      0.95      2986\n",
            "           1       0.88      0.93      0.90      1514\n",
            "\n",
            "    accuracy                           0.93      4500\n",
            "   macro avg       0.92      0.93      0.93      4500\n",
            "weighted avg       0.93      0.93      0.93      4500\n",
            "\n"
          ]
        }
      ]
    },
    {
      "cell_type": "markdown",
      "source": [
        "#### Visualize [`roc_curve`](https://scikit-learn.org/stable/modules/generated/sklearn.metrics.roc_curve.html#sklearn.metrics.roc_curve) and [`roc_auc_score`](https://scikit-learn.org/stable/modules/generated/sklearn.metrics.roc_auc_score.html#sklearn.metrics.roc_auc_score)"
      ],
      "metadata": {
        "id": "sCvOArFTeIvn"
      }
    },
    {
      "cell_type": "code",
      "source": [
        "# roc_curve + auc\n",
        "plot_roc_curve(forest_model2, X_test, y_test)"
      ],
      "metadata": {
        "colab": {
          "base_uri": "https://localhost:8080/",
          "height": 398
        },
        "id": "rHTVOHPWbu6d",
        "outputId": "688b244f-7726-4a37-b867-de3a06c72f32"
      },
      "execution_count": null,
      "outputs": [
        {
          "output_type": "display_data",
          "data": {
            "text/plain": [
              "<Figure size 370x370 with 1 Axes>"
            ],
            "image/png": "[encoded data removed]"
          },
          "metadata": {}
        }
      ]
    },
    {
      "cell_type": "markdown",
      "source": [
        "> ▶️ **Up Next**  \n",
        "\n",
        "> We'll tinker with the code and implement the following\n",
        "+ [`CatBoostClassifier`](https://catboost.ai/en/concepts/python-reference_catboostclassifier) and optimize its hyperparameters using [`Optuna`](https://optuna.readthedocs.io/en/stable/index.html)\n",
        "+ Tune `ROC Curve` decision threshold"
      ],
      "metadata": {
        "id": "jzaXNoSokXRy"
      }
    }
  ]
}