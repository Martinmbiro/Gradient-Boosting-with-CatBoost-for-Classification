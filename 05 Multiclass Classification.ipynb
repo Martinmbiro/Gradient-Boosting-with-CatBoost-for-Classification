{
  "nbformat": 4,
  "nbformat_minor": 0,
  "metadata": {
    "colab": {
      "provenance": [],
      "collapsed_sections": [
        "6qdlWmdzkU92"
      ],
      "toc_visible": true,
      "authorship_tag": "ABX9TyMrHZ+eUpNjvdLtWKv0hSDP",
      "include_colab_link": true
    },
    "kernelspec": {
      "name": "python3",
      "display_name": "Python 3"
    },
    "language_info": {
      "name": "python"
    }
  },
  "cells": [
    {
      "cell_type": "markdown",
      "metadata": {
        "id": "view-in-github",
        "colab_type": "text"
      },
      "source": [
        "<a href=\"https://colab.research.google.com/github/Martinmbiro/Gradient-Boosting-with-CatBoot-for-Classification/blob/main/05%20Multiclass%20Classification.ipynb\" target=\"_parent\"><img src=\"https://colab.research.google.com/assets/colab-badge.svg\" alt=\"Open In Colab\"/></a>"
      ]
    },
    {
      "cell_type": "markdown",
      "source": [
        "# **Multiclass Classification**  \n",
        "> This is the task of classifying data that has more than two classes."
      ],
      "metadata": {
        "id": "2hWUmB9AbGYM"
      }
    },
    {
      "cell_type": "markdown",
      "source": [
        "> Multiclass classification can be thought of as a combination of multiple _binary classifiers_, and there are two ways in which the problem can be approached:\n",
        "+ **One vs Rest (OVR)**  \n",
        ">> + A classifier is created for each possible class value, with a positive outcome for cases where the prediction is this class, and negative predictions for cases where the prediction is any other class.\n",
        "+ **One vs One (OVO)**\n",
        ">> + A classifier for each possible pair of classes is created.\n",
        "\n",
        "> In both approaches, the overall model must take into account all of these predictions to determine which single category the item belongs to"
      ],
      "metadata": {
        "id": "ctyAzQYkZatN"
      }
    },
    {
      "cell_type": "markdown",
      "source": [
        "> Most machine learning frameworks, including [`sklearn`]() implicitly support multiclass classification by abstracting an `OVR` algorithm, an `OVO` algorithm, or by allowing a choice of either.   \n",
        "+ [`catboost`](https://catboost.ai/) and [`xgboost`](https://xgboost.readthedocs.io/en/stable/#) in particular only implement the `OVR` approach."
      ],
      "metadata": {
        "id": "wiBbaEhga17H"
      }
    },
    {
      "cell_type": "markdown",
      "source": [
        "## Load the data\n",
        "+ We've got to load the data first"
      ],
      "metadata": {
        "id": "fYT-DH0PZjoX"
      }
    },
    {
      "cell_type": "code",
      "execution_count": null,
      "metadata": {
        "id": "LyCAgRHGYjeN"
      },
      "outputs": [],
      "source": [
        "# import pandas, matplotlib, seaborn, specify stylesheet\n",
        "import pandas as pd\n",
        "import matplotlib.pyplot as plt\n",
        "import seaborn as sns\n",
        "plt.style.use('fast')\n",
        "\n",
        "!wget https://raw.githubusercontent.com/MicrosoftDocs/mslearn-introduction-to-machine-learning/main/Data/ml-basics/penguins.csv\n",
        "penguins = pd.read_csv('penguins.csv')"
      ]
    },
    {
      "cell_type": "code",
      "source": [
        "# display dataset info\n",
        "penguins.info()"
      ],
      "metadata": {
        "colab": {
          "base_uri": "https://localhost:8080/"
        },
        "id": "Hxce2ZiXbYr1",
        "outputId": "2d6fcdf3-016f-469d-9f65-9d4c2aa61d96"
      },
      "execution_count": null,
      "outputs": [
        {
          "output_type": "stream",
          "name": "stdout",
          "text": [
            "<class 'pandas.core.frame.DataFrame'>\n",
            "RangeIndex: 344 entries, 0 to 343\n",
            "Data columns (total 5 columns):\n",
            " #   Column         Non-Null Count  Dtype  \n",
            "---  ------         --------------  -----  \n",
            " 0   CulmenLength   342 non-null    float64\n",
            " 1   CulmenDepth    342 non-null    float64\n",
            " 2   FlipperLength  342 non-null    float64\n",
            " 3   BodyMass       342 non-null    float64\n",
            " 4   Species        344 non-null    int64  \n",
            "dtypes: float64(4), int64(1)\n",
            "memory usage: 13.6 KB\n"
          ]
        }
      ]
    },
    {
      "cell_type": "markdown",
      "source": [
        "> 💡 **Info**\n",
        "+ Lucky for us, all features are numeric / continuous meaning we don't have to worry about encoding categorical columns"
      ],
      "metadata": {
        "id": "shr5M-9PhFT8"
      }
    },
    {
      "cell_type": "code",
      "source": [
        "# seems there might be a few null values, let's see\n",
        "penguins.isnull().sum()"
      ],
      "metadata": {
        "colab": {
          "base_uri": "https://localhost:8080/"
        },
        "id": "RKhZmFtwbhku",
        "outputId": "51f5d86f-2998-4495-f7d7-b583d9b6a558"
      },
      "execution_count": null,
      "outputs": [
        {
          "output_type": "execute_result",
          "data": {
            "text/plain": [
              "CulmenLength     2\n",
              "CulmenDepth      2\n",
              "FlipperLength    2\n",
              "BodyMass         2\n",
              "Species          0\n",
              "dtype: int64"
            ],
            "text/html": [
              "<div>\n",
              "<style scoped>\n",
              "    .dataframe tbody tr th:only-of-type {\n",
              "        vertical-align: middle;\n",
              "    }\n",
              "\n",
              "    .dataframe tbody tr th {\n",
              "        vertical-align: top;\n",
              "    }\n",
              "\n",
              "    .dataframe thead th {\n",
              "        text-align: right;\n",
              "    }\n",
              "</style>\n",
              "<table border=\"1\" class=\"dataframe\">\n",
              "  <thead>\n",
              "    <tr style=\"text-align: right;\">\n",
              "      <th></th>\n",
              "      <th>0</th>\n",
              "    </tr>\n",
              "  </thead>\n",
              "  <tbody>\n",
              "    <tr>\n",
              "      <th>CulmenLength</th>\n",
              "      <td>2</td>\n",
              "    </tr>\n",
              "    <tr>\n",
              "      <th>CulmenDepth</th>\n",
              "      <td>2</td>\n",
              "    </tr>\n",
              "    <tr>\n",
              "      <th>FlipperLength</th>\n",
              "      <td>2</td>\n",
              "    </tr>\n",
              "    <tr>\n",
              "      <th>BodyMass</th>\n",
              "      <td>2</td>\n",
              "    </tr>\n",
              "    <tr>\n",
              "      <th>Species</th>\n",
              "      <td>0</td>\n",
              "    </tr>\n",
              "  </tbody>\n",
              "</table>\n",
              "</div><br><label><b>dtype:</b> int64</label>"
            ]
          },
          "metadata": {},
          "execution_count": 133
        }
      ]
    },
    {
      "cell_type": "code",
      "source": [
        "# Show rows for which any column might be null\n",
        "penguins.loc[penguins.isnull().any(axis='columns')]\n",
        "# SAME: penguins[penguins.isnull().any(axis='columns')]"
      ],
      "metadata": {
        "colab": {
          "base_uri": "https://localhost:8080/"
        },
        "id": "dYHWFZpwfEod",
        "outputId": "2437456a-7a1f-4525-d7b5-6fb4f30f2cbd"
      },
      "execution_count": null,
      "outputs": [
        {
          "output_type": "execute_result",
          "data": {
            "text/plain": [
              "     CulmenLength  CulmenDepth  FlipperLength  BodyMass  Species\n",
              "3             NaN          NaN            NaN       NaN        0\n",
              "271           NaN          NaN            NaN       NaN        1"
            ],
            "text/html": [
              "\n",
              "  <div id=\"df-2e8803f3-a1ff-43f7-9eb0-d2ff4a792d0b\" class=\"colab-df-container\">\n",
              "    <div>\n",
              "<style scoped>\n",
              "    .dataframe tbody tr th:only-of-type {\n",
              "        vertical-align: middle;\n",
              "    }\n",
              "\n",
              "    .dataframe tbody tr th {\n",
              "        vertical-align: top;\n",
              "    }\n",
              "\n",
              "    .dataframe thead th {\n",
              "        text-align: right;\n",
              "    }\n",
              "</style>\n",
              "<table border=\"1\" class=\"dataframe\">\n",
              "  <thead>\n",
              "    <tr style=\"text-align: right;\">\n",
              "      <th></th>\n",
              "      <th>CulmenLength</th>\n",
              "      <th>CulmenDepth</th>\n",
              "      <th>FlipperLength</th>\n",
              "      <th>BodyMass</th>\n",
              "      <th>Species</th>\n",
              "    </tr>\n",
              "  </thead>\n",
              "  <tbody>\n",
              "    <tr>\n",
              "      <th>3</th>\n",
              "      <td>NaN</td>\n",
              "      <td>NaN</td>\n",
              "      <td>NaN</td>\n",
              "      <td>NaN</td>\n",
              "      <td>0</td>\n",
              "    </tr>\n",
              "    <tr>\n",
              "      <th>271</th>\n",
              "      <td>NaN</td>\n",
              "      <td>NaN</td>\n",
              "      <td>NaN</td>\n",
              "      <td>NaN</td>\n",
              "      <td>1</td>\n",
              "    </tr>\n",
              "  </tbody>\n",
              "</table>\n",
              "</div>\n",
              "    <div class=\"colab-df-buttons\">\n",
              "\n",
              "  <div class=\"colab-df-container\">\n",
              "    <button class=\"colab-df-convert\" onclick=\"convertToInteractive('df-2e8803f3-a1ff-43f7-9eb0-d2ff4a792d0b')\"\n",
              "            title=\"Convert this dataframe to an interactive table.\"\n",
              "            style=\"display:none;\">\n",
              "\n",
              "  <svg xmlns=\"http://www.w3.org/2000/svg\" height=\"24px\" viewBox=\"0 -960 960 960\">\n",
              "    <path d=\"M120-120v-720h720v720H120Zm60-500h600v-160H180v160Zm220 220h160v-160H400v160Zm0 220h160v-160H400v160ZM180-400h160v-160H180v160Zm440 0h160v-160H620v160ZM180-180h160v-160H180v160Zm440 0h160v-160H620v160Z\"/>\n",
              "  </svg>\n",
              "    </button>\n",
              "\n",
              "  <style>\n",
              "    .colab-df-container {\n",
              "      display:flex;\n",
              "      gap: 12px;\n",
              "    }\n",
              "\n",
              "    .colab-df-convert {\n",
              "      background-color: #E8F0FE;\n",
              "      border: none;\n",
              "      border-radius: 50%;\n",
              "      cursor: pointer;\n",
              "      display: none;\n",
              "      fill: #1967D2;\n",
              "      height: 32px;\n",
              "      padding: 0 0 0 0;\n",
              "      width: 32px;\n",
              "    }\n",
              "\n",
              "    .colab-df-convert:hover {\n",
              "      background-color: #E2EBFA;\n",
              "      box-shadow: 0px 1px 2px rgba(60, 64, 67, 0.3), 0px 1px 3px 1px rgba(60, 64, 67, 0.15);\n",
              "      fill: #174EA6;\n",
              "    }\n",
              "\n",
              "    .colab-df-buttons div {\n",
              "      margin-bottom: 4px;\n",
              "    }\n",
              "\n",
              "    [theme=dark] .colab-df-convert {\n",
              "      background-color: #3B4455;\n",
              "      fill: #D2E3FC;\n",
              "    }\n",
              "\n",
              "    [theme=dark] .colab-df-convert:hover {\n",
              "      background-color: #434B5C;\n",
              "      box-shadow: 0px 1px 3px 1px rgba(0, 0, 0, 0.15);\n",
              "      filter: drop-shadow(0px 1px 2px rgba(0, 0, 0, 0.3));\n",
              "      fill: #FFFFFF;\n",
              "    }\n",
              "  </style>\n",
              "\n",
              "    <script>\n",
              "      const buttonEl =\n",
              "        document.querySelector('#df-2e8803f3-a1ff-43f7-9eb0-d2ff4a792d0b button.colab-df-convert');\n",
              "      buttonEl.style.display =\n",
              "        google.colab.kernel.accessAllowed ? 'block' : 'none';\n",
              "\n",
              "      async function convertToInteractive(key) {\n",
              "        const element = document.querySelector('#df-2e8803f3-a1ff-43f7-9eb0-d2ff4a792d0b');\n",
              "        const dataTable =\n",
              "          await google.colab.kernel.invokeFunction('convertToInteractive',\n",
              "                                                    [key], {});\n",
              "        if (!dataTable) return;\n",
              "\n",
              "        const docLinkHtml = 'Like what you see? Visit the ' +\n",
              "          '<a target=\"_blank\" href=https://colab.research.google.com/notebooks/data_table.ipynb>data table notebook</a>'\n",
              "          + ' to learn more about interactive tables.';\n",
              "        element.innerHTML = '';\n",
              "        dataTable['output_type'] = 'display_data';\n",
              "        await google.colab.output.renderOutput(dataTable, element);\n",
              "        const docLink = document.createElement('div');\n",
              "        docLink.innerHTML = docLinkHtml;\n",
              "        element.appendChild(docLink);\n",
              "      }\n",
              "    </script>\n",
              "  </div>\n",
              "\n",
              "\n",
              "<div id=\"df-c5b6d33d-7a51-4daa-8c87-f4feeca7dff2\">\n",
              "  <button class=\"colab-df-quickchart\" onclick=\"quickchart('df-c5b6d33d-7a51-4daa-8c87-f4feeca7dff2')\"\n",
              "            title=\"Suggest charts\"\n",
              "            style=\"display:none;\">\n",
              "\n",
              "<svg xmlns=\"http://www.w3.org/2000/svg\" height=\"24px\"viewBox=\"0 0 24 24\"\n",
              "     width=\"24px\">\n",
              "    <g>\n",
              "        <path d=\"M19 3H5c-1.1 0-2 .9-2 2v14c0 1.1.9 2 2 2h14c1.1 0 2-.9 2-2V5c0-1.1-.9-2-2-2zM9 17H7v-7h2v7zm4 0h-2V7h2v10zm4 0h-2v-4h2v4z\"/>\n",
              "    </g>\n",
              "</svg>\n",
              "  </button>\n",
              "\n",
              "<style>\n",
              "  .colab-df-quickchart {\n",
              "      --bg-color: #E8F0FE;\n",
              "      --fill-color: #1967D2;\n",
              "      --hover-bg-color: #E2EBFA;\n",
              "      --hover-fill-color: #174EA6;\n",
              "      --disabled-fill-color: #AAA;\n",
              "      --disabled-bg-color: #DDD;\n",
              "  }\n",
              "\n",
              "  [theme=dark] .colab-df-quickchart {\n",
              "      --bg-color: #3B4455;\n",
              "      --fill-color: #D2E3FC;\n",
              "      --hover-bg-color: #434B5C;\n",
              "      --hover-fill-color: #FFFFFF;\n",
              "      --disabled-bg-color: #3B4455;\n",
              "      --disabled-fill-color: #666;\n",
              "  }\n",
              "\n",
              "  .colab-df-quickchart {\n",
              "    background-color: var(--bg-color);\n",
              "    border: none;\n",
              "    border-radius: 50%;\n",
              "    cursor: pointer;\n",
              "    display: none;\n",
              "    fill: var(--fill-color);\n",
              "    height: 32px;\n",
              "    padding: 0;\n",
              "    width: 32px;\n",
              "  }\n",
              "\n",
              "  .colab-df-quickchart:hover {\n",
              "    background-color: var(--hover-bg-color);\n",
              "    box-shadow: 0 1px 2px rgba(60, 64, 67, 0.3), 0 1px 3px 1px rgba(60, 64, 67, 0.15);\n",
              "    fill: var(--button-hover-fill-color);\n",
              "  }\n",
              "\n",
              "  .colab-df-quickchart-complete:disabled,\n",
              "  .colab-df-quickchart-complete:disabled:hover {\n",
              "    background-color: var(--disabled-bg-color);\n",
              "    fill: var(--disabled-fill-color);\n",
              "    box-shadow: none;\n",
              "  }\n",
              "\n",
              "  .colab-df-spinner {\n",
              "    border: 2px solid var(--fill-color);\n",
              "    border-color: transparent;\n",
              "    border-bottom-color: var(--fill-color);\n",
              "    animation:\n",
              "      spin 1s steps(1) infinite;\n",
              "  }\n",
              "\n",
              "  @keyframes spin {\n",
              "    0% {\n",
              "      border-color: transparent;\n",
              "      border-bottom-color: var(--fill-color);\n",
              "      border-left-color: var(--fill-color);\n",
              "    }\n",
              "    20% {\n",
              "      border-color: transparent;\n",
              "      border-left-color: var(--fill-color);\n",
              "      border-top-color: var(--fill-color);\n",
              "    }\n",
              "    30% {\n",
              "      border-color: transparent;\n",
              "      border-left-color: var(--fill-color);\n",
              "      border-top-color: var(--fill-color);\n",
              "      border-right-color: var(--fill-color);\n",
              "    }\n",
              "    40% {\n",
              "      border-color: transparent;\n",
              "      border-right-color: var(--fill-color);\n",
              "      border-top-color: var(--fill-color);\n",
              "    }\n",
              "    60% {\n",
              "      border-color: transparent;\n",
              "      border-right-color: var(--fill-color);\n",
              "    }\n",
              "    80% {\n",
              "      border-color: transparent;\n",
              "      border-right-color: var(--fill-color);\n",
              "      border-bottom-color: var(--fill-color);\n",
              "    }\n",
              "    90% {\n",
              "      border-color: transparent;\n",
              "      border-bottom-color: var(--fill-color);\n",
              "    }\n",
              "  }\n",
              "</style>\n",
              "\n",
              "  <script>\n",
              "    async function quickchart(key) {\n",
              "      const quickchartButtonEl =\n",
              "        document.querySelector('#' + key + ' button');\n",
              "      quickchartButtonEl.disabled = true;  // To prevent multiple clicks.\n",
              "      quickchartButtonEl.classList.add('colab-df-spinner');\n",
              "      try {\n",
              "        const charts = await google.colab.kernel.invokeFunction(\n",
              "            'suggestCharts', [key], {});\n",
              "      } catch (error) {\n",
              "        console.error('Error during call to suggestCharts:', error);\n",
              "      }\n",
              "      quickchartButtonEl.classList.remove('colab-df-spinner');\n",
              "      quickchartButtonEl.classList.add('colab-df-quickchart-complete');\n",
              "    }\n",
              "    (() => {\n",
              "      let quickchartButtonEl =\n",
              "        document.querySelector('#df-c5b6d33d-7a51-4daa-8c87-f4feeca7dff2 button');\n",
              "      quickchartButtonEl.style.display =\n",
              "        google.colab.kernel.accessAllowed ? 'block' : 'none';\n",
              "    })();\n",
              "  </script>\n",
              "</div>\n",
              "\n",
              "    </div>\n",
              "  </div>\n"
            ],
            "application/vnd.google.colaboratory.intrinsic+json": {
              "type": "dataframe",
              "summary": "{\n  \"name\": \"# SAME: penguins[penguins\",\n  \"rows\": 2,\n  \"fields\": [\n    {\n      \"column\": \"CulmenLength\",\n      \"properties\": {\n        \"dtype\": \"number\",\n        \"std\": null,\n        \"min\": null,\n        \"max\": null,\n        \"num_unique_values\": 0,\n        \"samples\": [],\n        \"semantic_type\": \"\",\n        \"description\": \"\"\n      }\n    },\n    {\n      \"column\": \"CulmenDepth\",\n      \"properties\": {\n        \"dtype\": \"number\",\n        \"std\": null,\n        \"min\": null,\n        \"max\": null,\n        \"num_unique_values\": 0,\n        \"samples\": [],\n        \"semantic_type\": \"\",\n        \"description\": \"\"\n      }\n    },\n    {\n      \"column\": \"FlipperLength\",\n      \"properties\": {\n        \"dtype\": \"number\",\n        \"std\": null,\n        \"min\": null,\n        \"max\": null,\n        \"num_unique_values\": 0,\n        \"samples\": [],\n        \"semantic_type\": \"\",\n        \"description\": \"\"\n      }\n    },\n    {\n      \"column\": \"BodyMass\",\n      \"properties\": {\n        \"dtype\": \"number\",\n        \"std\": null,\n        \"min\": null,\n        \"max\": null,\n        \"num_unique_values\": 0,\n        \"samples\": [],\n        \"semantic_type\": \"\",\n        \"description\": \"\"\n      }\n    },\n    {\n      \"column\": \"Species\",\n      \"properties\": {\n        \"dtype\": \"number\",\n        \"std\": 0,\n        \"min\": 0,\n        \"max\": 1,\n        \"num_unique_values\": 2,\n        \"samples\": [],\n        \"semantic_type\": \"\",\n        \"description\": \"\"\n      }\n    }\n  ]\n}"
            }
          },
          "metadata": {},
          "execution_count": 134
        }
      ]
    },
    {
      "cell_type": "code",
      "source": [
        "# dropping rows with null values, and overwrite the initial dataframe\n",
        "penguins = penguins.dropna(axis='index')"
      ],
      "metadata": {
        "id": "gZLzbQ86ca2A"
      },
      "execution_count": null,
      "outputs": []
    },
    {
      "cell_type": "code",
      "source": [
        "# check to see if rows with null values were dropped\n",
        "penguins.isnull().sum()"
      ],
      "metadata": {
        "colab": {
          "base_uri": "https://localhost:8080/"
        },
        "id": "z2QXAfhOipbk",
        "outputId": "9ed06d55-bc16-4cab-b6ea-7ec516a9150a"
      },
      "execution_count": null,
      "outputs": [
        {
          "output_type": "execute_result",
          "data": {
            "text/plain": [
              "CulmenLength     0\n",
              "CulmenDepth      0\n",
              "FlipperLength    0\n",
              "BodyMass         0\n",
              "Species          0\n",
              "dtype: int64"
            ],
            "text/html": [
              "<div>\n",
              "<style scoped>\n",
              "    .dataframe tbody tr th:only-of-type {\n",
              "        vertical-align: middle;\n",
              "    }\n",
              "\n",
              "    .dataframe tbody tr th {\n",
              "        vertical-align: top;\n",
              "    }\n",
              "\n",
              "    .dataframe thead th {\n",
              "        text-align: right;\n",
              "    }\n",
              "</style>\n",
              "<table border=\"1\" class=\"dataframe\">\n",
              "  <thead>\n",
              "    <tr style=\"text-align: right;\">\n",
              "      <th></th>\n",
              "      <th>0</th>\n",
              "    </tr>\n",
              "  </thead>\n",
              "  <tbody>\n",
              "    <tr>\n",
              "      <th>CulmenLength</th>\n",
              "      <td>0</td>\n",
              "    </tr>\n",
              "    <tr>\n",
              "      <th>CulmenDepth</th>\n",
              "      <td>0</td>\n",
              "    </tr>\n",
              "    <tr>\n",
              "      <th>FlipperLength</th>\n",
              "      <td>0</td>\n",
              "    </tr>\n",
              "    <tr>\n",
              "      <th>BodyMass</th>\n",
              "      <td>0</td>\n",
              "    </tr>\n",
              "    <tr>\n",
              "      <th>Species</th>\n",
              "      <td>0</td>\n",
              "    </tr>\n",
              "  </tbody>\n",
              "</table>\n",
              "</div><br><label><b>dtype:</b> int64</label>"
            ]
          },
          "metadata": {},
          "execution_count": 136
        }
      ]
    },
    {
      "cell_type": "markdown",
      "source": [
        "> 💡 **Info**  \n",
        "\n",
        "> [`Panda`](https://pandas.pydata.org/docs/index.html) methods used in the above analysis include:\n",
        "+ [`info()`](https://pandas.pydata.org/docs/reference/api/pandas.DataFrame.info.html#pandas.DataFrame.info) - Print a concise summary of a [`DataFrame`](https://pandas.pydata.org/docs/reference/frame.html)\n",
        "+ [`sum()`](https://pandas.pydata.org/docs/reference/api/pandas.DataFrame.sum.html#pandas.DataFrame.sum) - Return the sum of the values over the requested axis\n",
        "+ [`any()`](https://pandas.pydata.org/docs/reference/api/pandas.Series.any.html#pandas.Series.any) - Return whether any element is True, potentially over an axis\n",
        "+ [`dropna()`](https://pandas.pydata.org/docs/reference/api/pandas.DataFrame.dropna.html#pandas.DataFrame.dropna) - Remove missing values"
      ],
      "metadata": {
        "id": "cPh7rat1jlAP"
      }
    },
    {
      "cell_type": "markdown",
      "source": [
        "### Check for label imbalance"
      ],
      "metadata": {
        "id": "Ru5RdWWHkhXA"
      }
    },
    {
      "cell_type": "code",
      "source": [
        "# value count for each class\n",
        "penguins['Species'].value_counts()"
      ],
      "metadata": {
        "colab": {
          "base_uri": "https://localhost:8080/"
        },
        "id": "8PJEdPrcjYuQ",
        "outputId": "6743ec33-e575-41b6-c119-b8f0ee9ac281"
      },
      "execution_count": null,
      "outputs": [
        {
          "output_type": "execute_result",
          "data": {
            "text/plain": [
              "Species\n",
              "0    151\n",
              "1    123\n",
              "2     68\n",
              "Name: count, dtype: int64"
            ],
            "text/html": [
              "<div>\n",
              "<style scoped>\n",
              "    .dataframe tbody tr th:only-of-type {\n",
              "        vertical-align: middle;\n",
              "    }\n",
              "\n",
              "    .dataframe tbody tr th {\n",
              "        vertical-align: top;\n",
              "    }\n",
              "\n",
              "    .dataframe thead th {\n",
              "        text-align: right;\n",
              "    }\n",
              "</style>\n",
              "<table border=\"1\" class=\"dataframe\">\n",
              "  <thead>\n",
              "    <tr style=\"text-align: right;\">\n",
              "      <th></th>\n",
              "      <th>count</th>\n",
              "    </tr>\n",
              "    <tr>\n",
              "      <th>Species</th>\n",
              "      <th></th>\n",
              "    </tr>\n",
              "  </thead>\n",
              "  <tbody>\n",
              "    <tr>\n",
              "      <th>0</th>\n",
              "      <td>151</td>\n",
              "    </tr>\n",
              "    <tr>\n",
              "      <th>1</th>\n",
              "      <td>123</td>\n",
              "    </tr>\n",
              "    <tr>\n",
              "      <th>2</th>\n",
              "      <td>68</td>\n",
              "    </tr>\n",
              "  </tbody>\n",
              "</table>\n",
              "</div><br><label><b>dtype:</b> int64</label>"
            ]
          },
          "metadata": {},
          "execution_count": 137
        }
      ]
    },
    {
      "cell_type": "code",
      "source": [
        "'''\n",
        "  sketch the distribution\n",
        "'''\n",
        "# specify figure and Axes\n",
        "fig, ax= plt.subplots(figsize=(3.3, 3.3))\n",
        "\n",
        "# make plot\n",
        "penguins['Species'].value_counts().plot.bar(rot=0,\n",
        "                                            width=0.8,\n",
        "                                            color=['#264653', '#2a9d8f', '#e76f51'],\n",
        "                                            alpha=0.6,\n",
        "                                            ax=ax)\n",
        "\n",
        "ax.set_ylabel('Species Count', weight='black')\n",
        "ax.set_title('Species Distribution', fontsize=11.5)\n",
        "ax.set_xlabel('Species', weight='black')\n",
        "\n",
        "plt.show()"
      ],
      "metadata": {
        "colab": {
          "base_uri": "https://localhost:8080/",
          "height": 352
        },
        "id": "z1LG-CEbdyTV",
        "outputId": "b4080a8d-4ae1-4e4d-d3c0-06959f9a2cab"
      },
      "execution_count": null,
      "outputs": [
        {
          "output_type": "display_data",
          "data": {
            "text/plain": [
              "<Figure size 330x330 with 1 Axes>"
            ],
            "image/png": "[encoded data removed]"
          },
          "metadata": {}
        }
      ]
    },
    {
      "cell_type": "markdown",
      "source": [
        "> ✋ **Disclaimer**  \n",
        "\n",
        "> So again, we have the problem of an imbalanced dataset 💔\n",
        "+ Last time, in the previous notebooks, we solved it using the _oversampling_ technique with [`SVMSMOTE`](https://imbalanced-learn.org/stable/references/generated/imblearn.over_sampling.SVMSMOTE.html)\n",
        "+ This time round let's try _stratified sampling_ with [`train_test_split`](https://scikit-learn.org/stable/modules/generated/sklearn.model_selection.train_test_split.html) `stratify` parameter when sampling, and later _oversampling_ using the [`imblearn`](https://imbalanced-learn.org/stable/index.html) library"
      ],
      "metadata": {
        "id": "2Clz3WZMik5I"
      }
    },
    {
      "cell_type": "markdown",
      "source": [
        "> 📝 **Note**  \n",
        "+ _Stratified sampling_ is a technique used in Machine Learning to ensure that each subset of data has the same proportion as the original dataset, which is particularly useful when dealing with imbalanced datasets, like ours.\n",
        "+ However, the data is still going to be imbalanced"
      ],
      "metadata": {
        "id": "eFS0RtgSadsx"
      }
    },
    {
      "cell_type": "markdown",
      "source": [
        "## Split the data"
      ],
      "metadata": {
        "id": "InmttfAoe3k6"
      }
    },
    {
      "cell_type": "code",
      "source": [
        "# features_list\n",
        "features_list = penguins.drop(columns='Species').columns\n",
        "\n",
        "# features\n",
        "X = penguins[features_list]\n",
        "\n",
        "# label / target\n",
        "y = penguins['Species']"
      ],
      "metadata": {
        "id": "qWD8Fj6ce6MO"
      },
      "execution_count": null,
      "outputs": []
    },
    {
      "cell_type": "code",
      "source": [
        "# quick info on the features dataframe\n",
        "X.info()"
      ],
      "metadata": {
        "colab": {
          "base_uri": "https://localhost:8080/"
        },
        "id": "pNHjla8Cg4FK",
        "outputId": "9e1c6b36-cf2a-491f-cd63-9eeb1d4cc83d"
      },
      "execution_count": null,
      "outputs": [
        {
          "output_type": "stream",
          "name": "stdout",
          "text": [
            "<class 'pandas.core.frame.DataFrame'>\n",
            "Index: 342 entries, 0 to 343\n",
            "Data columns (total 4 columns):\n",
            " #   Column         Non-Null Count  Dtype  \n",
            "---  ------         --------------  -----  \n",
            " 0   CulmenLength   342 non-null    float64\n",
            " 1   CulmenDepth    342 non-null    float64\n",
            " 2   FlipperLength  342 non-null    float64\n",
            " 3   BodyMass       342 non-null    float64\n",
            "dtypes: float64(4)\n",
            "memory usage: 13.4 KB\n"
          ]
        }
      ]
    },
    {
      "cell_type": "code",
      "source": [
        "from sklearn.model_selection import train_test_split\n",
        "\n",
        "# split into training and validation / test sets\n",
        "X_train, X_test, y_train, y_test = train_test_split(X, y,\n",
        "                                                   random_state=42,\n",
        "                                                   test_size=0.3,\n",
        "                                                   stratify=y)"
      ],
      "metadata": {
        "id": "B8rw82jJiCC2"
      },
      "execution_count": null,
      "outputs": []
    },
    {
      "cell_type": "markdown",
      "source": [
        "## Exploratory data analysis"
      ],
      "metadata": {
        "id": "puDQFZGKjVb0"
      }
    },
    {
      "cell_type": "markdown",
      "source": [
        "### Feature Distribution\n",
        "> To visualize how individual features are distributed, we'll use [`seaborn`](https://seaborn.pydata.org/index.html) [`histplot`](https://seaborn.pydata.org/generated/seaborn.histplot.html#seaborn.histplot)"
      ],
      "metadata": {
        "id": "fhfoS5ymbCn9"
      }
    },
    {
      "cell_type": "code",
      "source": [
        "# list of colors for this plot\n",
        "color_list=['#00b4d8', '#457b9d', '#0077b6', '#03045e']\n",
        "\n",
        "# specify a subplot with 1 row and 4 columns\n",
        "fig, axs = plt.subplots(1, 4, figsize=(12, 3),\n",
        "                        layout='constrained', sharey=True)\n",
        "\n",
        "# use a loop to sketch the 4 plot (appreciate how concise the code is:)\n",
        "for indx, col in enumerate(features_list):\n",
        "  sns.histplot(data=penguins, x=col, kde=True, ax=axs[indx],\n",
        "               cbar=True, color=color_list[indx], bins=10,\n",
        "               alpha=0.4,\n",
        "               edgecolor='#ffffff')\n",
        "\n",
        "  axs[indx].set_xlabel(col, weight='black')\n",
        "\n",
        "# modify the xticks\n",
        "axs[0].set_yticks(range(0, 90, 10))\n",
        "axs[0].set_ylabel('Count', weight='black')\n",
        "\n",
        "# suptitle\n",
        "fig.suptitle('Feature Distribution', fontsize=12)\n",
        "plt.show()"
      ],
      "metadata": {
        "colab": {
          "base_uri": "https://localhost:8080/",
          "height": 259
        },
        "id": "FqzlVuvYbgRy",
        "outputId": "414cc1c6-e9d3-4b81-e212-d0295794b38e"
      },
      "execution_count": null,
      "outputs": [
        {
          "output_type": "display_data",
          "data": {
            "text/plain": [
              "<Figure size 1200x300 with 4 Axes>"
            ],
            "image/png": "[encoded data removed]"
          },
          "metadata": {}
        }
      ]
    },
    {
      "cell_type": "markdown",
      "source": [
        "> 📉 **Observation**\n",
        "+ Most features seem to have somewhat of a normal distribution, though no perfect.\n",
        "+ The `BodyMass` column is _right-skewed_"
      ],
      "metadata": {
        "id": "3pk4Ow_jek3I"
      }
    },
    {
      "cell_type": "markdown",
      "source": [
        "### Relationship between the features and label\n",
        "> To visualize how individual features are distributed across the label classes, we'll use [`seaborn`](https://seaborn.pydata.org/index.html) [`boxplot`](https://seaborn.pydata.org/generated/seaborn.boxplot.html)"
      ],
      "metadata": {
        "id": "YCHGngIKdQ2S"
      }
    },
    {
      "cell_type": "code",
      "source": [
        "# list of colors for this plot\n",
        "color_list=['#d8e2dc', '#ffe5d9', '#ffcad4', '#9d8189']\n",
        "\n",
        "# specify subplot with 1 row and 4 columns\n",
        "fig, axs = plt.subplots(1, 4, figsize=(12, 3), layout='constrained')\n",
        "\n",
        "# use a for loop to plot distribution of all features against species\n",
        "for indx, col in enumerate(features_list):\n",
        "  sns.boxplot(data=penguins, x='Species', y=col, width=0.5,\n",
        "              flierprops={'marker': '.', 'markeredgecolor': 'red'},\n",
        "              color=color_list[indx], linecolor='#000000',\n",
        "              ax=axs[indx])\n",
        "\n",
        "  axs[indx].set_ylabel(col, weight='black')\n",
        "\n",
        "# suptitle\n",
        "fig.suptitle('Distribution of features across label classes',\n",
        "             fontsize=12)\n",
        "plt.show()"
      ],
      "metadata": {
        "colab": {
          "base_uri": "https://localhost:8080/",
          "height": 259
        },
        "id": "PCLRnGHwdUkV",
        "outputId": "6037ab4a-8598-467d-d9ed-1f79e28ef865"
      },
      "execution_count": null,
      "outputs": [
        {
          "output_type": "display_data",
          "data": {
            "text/plain": [
              "<Figure size 1200x300 with 4 Axes>"
            ],
            "image/png": "[encoded data removed]"
          },
          "metadata": {}
        }
      ]
    },
    {
      "cell_type": "markdown",
      "source": [
        "> 📉 **Observation**\n",
        "+ Although `Species` `0` and `2` `(Amelie` & `Chinstrap)` seem to have somewhat similar data profiles for `CulmenDepth`, `FlipperLength`, and `BodyMass`, the latter tend to have longer `CulmenLength`\n",
        "+ Also, `Species` `1` `(Gentoo)` has particularly distinct features from the other two Species\n",
        "\n",
        "> This means that the features are descriptive of the labels, and hence can be used to train a classification model"
      ],
      "metadata": {
        "id": "2KXg1ddeeciW"
      }
    },
    {
      "cell_type": "markdown",
      "source": [
        "## Data preprocessing `pipeline`\n",
        "> Here, we'll make a data pre-processing pipeline using [`scikit-learn's`](https://scikit-learn.org/stable/index.html) [`make_pipeline`](https://scikit-learn.org/stable/modules/generated/sklearn.pipeline.make_pipeline.html) and [`make_colum_transformer`](https://scikit-learn.org/stable/modules/generated/sklearn.compose.make_column_transformer.html)\n"
      ],
      "metadata": {
        "id": "u6D5V_GoiWPr"
      }
    },
    {
      "cell_type": "code",
      "source": [
        "# import necessary libraries\n",
        "from sklearn.pipeline import make_pipeline\n",
        "from sklearn.compose import make_column_transformer\n",
        "from sklearn.impute import SimpleImputer\n",
        "from sklearn.preprocessing import StandardScaler"
      ],
      "metadata": {
        "id": "4iZElk_-jabK"
      },
      "execution_count": null,
      "outputs": []
    },
    {
      "cell_type": "code",
      "source": [
        "# list of numerical feature indices in dataframe\n",
        "num_indices = list()\n",
        "for feature in features_list:\n",
        "  num_indices.append(penguins.columns.get_loc(feature))\n",
        "\n",
        "# numeric features transformer\n",
        "num_transformer = make_pipeline(\n",
        "    (SimpleImputer(strategy='median')), # handle null values if any\n",
        "    (StandardScaler()) # scale\n",
        ")\n",
        "\n",
        "# wrap the num_transformer in a ColumnTransformer object\n",
        "preprocesser = make_column_transformer(\n",
        "    #(transformer, columns)\n",
        "    (num_transformer, num_indices)\n",
        ")"
      ],
      "metadata": {
        "id": "lKrJ2cCQj3xh"
      },
      "execution_count": null,
      "outputs": []
    },
    {
      "cell_type": "markdown",
      "source": [
        "## Resampling\n",
        "> ❗ **Recall**\n",
        "+ This is an _imbalanced_ dataset, hence we'll have to resample it, to avoid bias in classification of under-represented classes"
      ],
      "metadata": {
        "id": "GYDSsWRObijJ"
      }
    },
    {
      "cell_type": "markdown",
      "source": [
        "### Visualize imbalance in `X_test`"
      ],
      "metadata": {
        "id": "cStH7ZV7buCW"
      }
    },
    {
      "cell_type": "code",
      "source": [
        "y_train.value_counts()"
      ],
      "metadata": {
        "colab": {
          "base_uri": "https://localhost:8080/"
        },
        "id": "QjA3V8-Ri6sg",
        "outputId": "08aa3899-782e-44f6-b8c8-415da4609999"
      },
      "execution_count": null,
      "outputs": [
        {
          "output_type": "execute_result",
          "data": {
            "text/plain": [
              "Species\n",
              "0    106\n",
              "1     86\n",
              "2     47\n",
              "Name: count, dtype: int64"
            ],
            "text/html": [
              "<div>\n",
              "<style scoped>\n",
              "    .dataframe tbody tr th:only-of-type {\n",
              "        vertical-align: middle;\n",
              "    }\n",
              "\n",
              "    .dataframe tbody tr th {\n",
              "        vertical-align: top;\n",
              "    }\n",
              "\n",
              "    .dataframe thead th {\n",
              "        text-align: right;\n",
              "    }\n",
              "</style>\n",
              "<table border=\"1\" class=\"dataframe\">\n",
              "  <thead>\n",
              "    <tr style=\"text-align: right;\">\n",
              "      <th></th>\n",
              "      <th>count</th>\n",
              "    </tr>\n",
              "    <tr>\n",
              "      <th>Species</th>\n",
              "      <th></th>\n",
              "    </tr>\n",
              "  </thead>\n",
              "  <tbody>\n",
              "    <tr>\n",
              "      <th>0</th>\n",
              "      <td>106</td>\n",
              "    </tr>\n",
              "    <tr>\n",
              "      <th>1</th>\n",
              "      <td>86</td>\n",
              "    </tr>\n",
              "    <tr>\n",
              "      <th>2</th>\n",
              "      <td>47</td>\n",
              "    </tr>\n",
              "  </tbody>\n",
              "</table>\n",
              "</div><br><label><b>dtype:</b> int64</label>"
            ]
          },
          "metadata": {},
          "execution_count": 146
        }
      ]
    },
    {
      "cell_type": "markdown",
      "source": [
        "### Oversampling"
      ],
      "metadata": {
        "id": "4QFPxiMmb4B7"
      }
    },
    {
      "cell_type": "code",
      "source": [
        "# import BorderlineSMOTE class\n",
        "from imblearn.over_sampling import BorderlineSMOTE\n",
        "\n",
        "# create a BorderlineSMOTE object\n",
        "blsmote = BorderlineSMOTE(random_state=42)\n",
        "\n",
        "# resample\n",
        "Xr, yr = blsmote.fit_resample(X_train, y_train)"
      ],
      "metadata": {
        "id": "mu3aHsrSaDdK"
      },
      "execution_count": null,
      "outputs": []
    },
    {
      "cell_type": "code",
      "source": [
        "# import SVMSMOTE class\n",
        "from imblearn.over_sampling import SVMSMOTE\n",
        "\n",
        "# create an SVMSMOTE object\n",
        "svmsmote = SVMSMOTE(random_state=42)\n",
        "\n",
        "# resample\n",
        "Xr, yr = svmsmote.fit_resample(X_train, y_train)"
      ],
      "metadata": {
        "id": "T50WwcsTk9OW"
      },
      "execution_count": null,
      "outputs": []
    },
    {
      "cell_type": "markdown",
      "source": [
        "### Visualize difference after oversampling"
      ],
      "metadata": {
        "id": "LBrMC4mMgD-N"
      }
    },
    {
      "cell_type": "code",
      "source": [
        "# class distribution after oversampling\n",
        "yr.value_counts().sort_index()"
      ],
      "metadata": {
        "colab": {
          "base_uri": "https://localhost:8080/"
        },
        "id": "bb9Wtl1DlU6p",
        "outputId": "623ec503-bef2-4bbb-a33b-858aa4648d60"
      },
      "execution_count": null,
      "outputs": [
        {
          "output_type": "execute_result",
          "data": {
            "text/plain": [
              "Species\n",
              "0    106\n",
              "1    106\n",
              "2    106\n",
              "Name: count, dtype: int64"
            ],
            "text/html": [
              "<div>\n",
              "<style scoped>\n",
              "    .dataframe tbody tr th:only-of-type {\n",
              "        vertical-align: middle;\n",
              "    }\n",
              "\n",
              "    .dataframe tbody tr th {\n",
              "        vertical-align: top;\n",
              "    }\n",
              "\n",
              "    .dataframe thead th {\n",
              "        text-align: right;\n",
              "    }\n",
              "</style>\n",
              "<table border=\"1\" class=\"dataframe\">\n",
              "  <thead>\n",
              "    <tr style=\"text-align: right;\">\n",
              "      <th></th>\n",
              "      <th>count</th>\n",
              "    </tr>\n",
              "    <tr>\n",
              "      <th>Species</th>\n",
              "      <th></th>\n",
              "    </tr>\n",
              "  </thead>\n",
              "  <tbody>\n",
              "    <tr>\n",
              "      <th>0</th>\n",
              "      <td>106</td>\n",
              "    </tr>\n",
              "    <tr>\n",
              "      <th>1</th>\n",
              "      <td>106</td>\n",
              "    </tr>\n",
              "    <tr>\n",
              "      <th>2</th>\n",
              "      <td>106</td>\n",
              "    </tr>\n",
              "  </tbody>\n",
              "</table>\n",
              "</div><br><label><b>dtype:</b> int64</label>"
            ]
          },
          "metadata": {},
          "execution_count": 149
        }
      ]
    },
    {
      "cell_type": "code",
      "source": [
        "# create a DataFrame of y_train.value_counts() and yr.value_counts()\n",
        "df = pd.DataFrame({'y_train' : y_train.value_counts().sort_index(),\n",
        "                   'yr': yr.value_counts().sort_index()})"
      ],
      "metadata": {
        "id": "RuxJR96bckOW"
      },
      "execution_count": null,
      "outputs": []
    },
    {
      "cell_type": "code",
      "source": [
        "# a peek into the DataFrame:\n",
        "df"
      ],
      "metadata": {
        "colab": {
          "base_uri": "https://localhost:8080/",
          "height": 175
        },
        "id": "SLySyCzMeQbd",
        "outputId": "bfd30283-135e-4855-cf99-c637c2ae2a90"
      },
      "execution_count": null,
      "outputs": [
        {
          "output_type": "execute_result",
          "data": {
            "text/plain": [
              "         y_train   yr\n",
              "Species              \n",
              "0            106  106\n",
              "1             86  106\n",
              "2             47  106"
            ],
            "text/html": [
              "\n",
              "  <div id=\"df-e15f85af-30e4-421d-ad7f-db4944f9c31e\" class=\"colab-df-container\">\n",
              "    <div>\n",
              "<style scoped>\n",
              "    .dataframe tbody tr th:only-of-type {\n",
              "        vertical-align: middle;\n",
              "    }\n",
              "\n",
              "    .dataframe tbody tr th {\n",
              "        vertical-align: top;\n",
              "    }\n",
              "\n",
              "    .dataframe thead th {\n",
              "        text-align: right;\n",
              "    }\n",
              "</style>\n",
              "<table border=\"1\" class=\"dataframe\">\n",
              "  <thead>\n",
              "    <tr style=\"text-align: right;\">\n",
              "      <th></th>\n",
              "      <th>y_train</th>\n",
              "      <th>yr</th>\n",
              "    </tr>\n",
              "    <tr>\n",
              "      <th>Species</th>\n",
              "      <th></th>\n",
              "      <th></th>\n",
              "    </tr>\n",
              "  </thead>\n",
              "  <tbody>\n",
              "    <tr>\n",
              "      <th>0</th>\n",
              "      <td>106</td>\n",
              "      <td>106</td>\n",
              "    </tr>\n",
              "    <tr>\n",
              "      <th>1</th>\n",
              "      <td>86</td>\n",
              "      <td>106</td>\n",
              "    </tr>\n",
              "    <tr>\n",
              "      <th>2</th>\n",
              "      <td>47</td>\n",
              "      <td>106</td>\n",
              "    </tr>\n",
              "  </tbody>\n",
              "</table>\n",
              "</div>\n",
              "    <div class=\"colab-df-buttons\">\n",
              "\n",
              "  <div class=\"colab-df-container\">\n",
              "    <button class=\"colab-df-convert\" onclick=\"convertToInteractive('df-e15f85af-30e4-421d-ad7f-db4944f9c31e')\"\n",
              "            title=\"Convert this dataframe to an interactive table.\"\n",
              "            style=\"display:none;\">\n",
              "\n",
              "  <svg xmlns=\"http://www.w3.org/2000/svg\" height=\"24px\" viewBox=\"0 -960 960 960\">\n",
              "    <path d=\"M120-120v-720h720v720H120Zm60-500h600v-160H180v160Zm220 220h160v-160H400v160Zm0 220h160v-160H400v160ZM180-400h160v-160H180v160Zm440 0h160v-160H620v160ZM180-180h160v-160H180v160Zm440 0h160v-160H620v160Z\"/>\n",
              "  </svg>\n",
              "    </button>\n",
              "\n",
              "  <style>\n",
              "    .colab-df-container {\n",
              "      display:flex;\n",
              "      gap: 12px;\n",
              "    }\n",
              "\n",
              "    .colab-df-convert {\n",
              "      background-color: #E8F0FE;\n",
              "      border: none;\n",
              "      border-radius: 50%;\n",
              "      cursor: pointer;\n",
              "      display: none;\n",
              "      fill: #1967D2;\n",
              "      height: 32px;\n",
              "      padding: 0 0 0 0;\n",
              "      width: 32px;\n",
              "    }\n",
              "\n",
              "    .colab-df-convert:hover {\n",
              "      background-color: #E2EBFA;\n",
              "      box-shadow: 0px 1px 2px rgba(60, 64, 67, 0.3), 0px 1px 3px 1px rgba(60, 64, 67, 0.15);\n",
              "      fill: #174EA6;\n",
              "    }\n",
              "\n",
              "    .colab-df-buttons div {\n",
              "      margin-bottom: 4px;\n",
              "    }\n",
              "\n",
              "    [theme=dark] .colab-df-convert {\n",
              "      background-color: #3B4455;\n",
              "      fill: #D2E3FC;\n",
              "    }\n",
              "\n",
              "    [theme=dark] .colab-df-convert:hover {\n",
              "      background-color: #434B5C;\n",
              "      box-shadow: 0px 1px 3px 1px rgba(0, 0, 0, 0.15);\n",
              "      filter: drop-shadow(0px 1px 2px rgba(0, 0, 0, 0.3));\n",
              "      fill: #FFFFFF;\n",
              "    }\n",
              "  </style>\n",
              "\n",
              "    <script>\n",
              "      const buttonEl =\n",
              "        document.querySelector('#df-e15f85af-30e4-421d-ad7f-db4944f9c31e button.colab-df-convert');\n",
              "      buttonEl.style.display =\n",
              "        google.colab.kernel.accessAllowed ? 'block' : 'none';\n",
              "\n",
              "      async function convertToInteractive(key) {\n",
              "        const element = document.querySelector('#df-e15f85af-30e4-421d-ad7f-db4944f9c31e');\n",
              "        const dataTable =\n",
              "          await google.colab.kernel.invokeFunction('convertToInteractive',\n",
              "                                                    [key], {});\n",
              "        if (!dataTable) return;\n",
              "\n",
              "        const docLinkHtml = 'Like what you see? Visit the ' +\n",
              "          '<a target=\"_blank\" href=https://colab.research.google.com/notebooks/data_table.ipynb>data table notebook</a>'\n",
              "          + ' to learn more about interactive tables.';\n",
              "        element.innerHTML = '';\n",
              "        dataTable['output_type'] = 'display_data';\n",
              "        await google.colab.output.renderOutput(dataTable, element);\n",
              "        const docLink = document.createElement('div');\n",
              "        docLink.innerHTML = docLinkHtml;\n",
              "        element.appendChild(docLink);\n",
              "      }\n",
              "    </script>\n",
              "  </div>\n",
              "\n",
              "\n",
              "<div id=\"df-df0ad242-6a50-472f-afeb-19d3d9c1e360\">\n",
              "  <button class=\"colab-df-quickchart\" onclick=\"quickchart('df-df0ad242-6a50-472f-afeb-19d3d9c1e360')\"\n",
              "            title=\"Suggest charts\"\n",
              "            style=\"display:none;\">\n",
              "\n",
              "<svg xmlns=\"http://www.w3.org/2000/svg\" height=\"24px\"viewBox=\"0 0 24 24\"\n",
              "     width=\"24px\">\n",
              "    <g>\n",
              "        <path d=\"M19 3H5c-1.1 0-2 .9-2 2v14c0 1.1.9 2 2 2h14c1.1 0 2-.9 2-2V5c0-1.1-.9-2-2-2zM9 17H7v-7h2v7zm4 0h-2V7h2v10zm4 0h-2v-4h2v4z\"/>\n",
              "    </g>\n",
              "</svg>\n",
              "  </button>\n",
              "\n",
              "<style>\n",
              "  .colab-df-quickchart {\n",
              "      --bg-color: #E8F0FE;\n",
              "      --fill-color: #1967D2;\n",
              "      --hover-bg-color: #E2EBFA;\n",
              "      --hover-fill-color: #174EA6;\n",
              "      --disabled-fill-color: #AAA;\n",
              "      --disabled-bg-color: #DDD;\n",
              "  }\n",
              "\n",
              "  [theme=dark] .colab-df-quickchart {\n",
              "      --bg-color: #3B4455;\n",
              "      --fill-color: #D2E3FC;\n",
              "      --hover-bg-color: #434B5C;\n",
              "      --hover-fill-color: #FFFFFF;\n",
              "      --disabled-bg-color: #3B4455;\n",
              "      --disabled-fill-color: #666;\n",
              "  }\n",
              "\n",
              "  .colab-df-quickchart {\n",
              "    background-color: var(--bg-color);\n",
              "    border: none;\n",
              "    border-radius: 50%;\n",
              "    cursor: pointer;\n",
              "    display: none;\n",
              "    fill: var(--fill-color);\n",
              "    height: 32px;\n",
              "    padding: 0;\n",
              "    width: 32px;\n",
              "  }\n",
              "\n",
              "  .colab-df-quickchart:hover {\n",
              "    background-color: var(--hover-bg-color);\n",
              "    box-shadow: 0 1px 2px rgba(60, 64, 67, 0.3), 0 1px 3px 1px rgba(60, 64, 67, 0.15);\n",
              "    fill: var(--button-hover-fill-color);\n",
              "  }\n",
              "\n",
              "  .colab-df-quickchart-complete:disabled,\n",
              "  .colab-df-quickchart-complete:disabled:hover {\n",
              "    background-color: var(--disabled-bg-color);\n",
              "    fill: var(--disabled-fill-color);\n",
              "    box-shadow: none;\n",
              "  }\n",
              "\n",
              "  .colab-df-spinner {\n",
              "    border: 2px solid var(--fill-color);\n",
              "    border-color: transparent;\n",
              "    border-bottom-color: var(--fill-color);\n",
              "    animation:\n",
              "      spin 1s steps(1) infinite;\n",
              "  }\n",
              "\n",
              "  @keyframes spin {\n",
              "    0% {\n",
              "      border-color: transparent;\n",
              "      border-bottom-color: var(--fill-color);\n",
              "      border-left-color: var(--fill-color);\n",
              "    }\n",
              "    20% {\n",
              "      border-color: transparent;\n",
              "      border-left-color: var(--fill-color);\n",
              "      border-top-color: var(--fill-color);\n",
              "    }\n",
              "    30% {\n",
              "      border-color: transparent;\n",
              "      border-left-color: var(--fill-color);\n",
              "      border-top-color: var(--fill-color);\n",
              "      border-right-color: var(--fill-color);\n",
              "    }\n",
              "    40% {\n",
              "      border-color: transparent;\n",
              "      border-right-color: var(--fill-color);\n",
              "      border-top-color: var(--fill-color);\n",
              "    }\n",
              "    60% {\n",
              "      border-color: transparent;\n",
              "      border-right-color: var(--fill-color);\n",
              "    }\n",
              "    80% {\n",
              "      border-color: transparent;\n",
              "      border-right-color: var(--fill-color);\n",
              "      border-bottom-color: var(--fill-color);\n",
              "    }\n",
              "    90% {\n",
              "      border-color: transparent;\n",
              "      border-bottom-color: var(--fill-color);\n",
              "    }\n",
              "  }\n",
              "</style>\n",
              "\n",
              "  <script>\n",
              "    async function quickchart(key) {\n",
              "      const quickchartButtonEl =\n",
              "        document.querySelector('#' + key + ' button');\n",
              "      quickchartButtonEl.disabled = true;  // To prevent multiple clicks.\n",
              "      quickchartButtonEl.classList.add('colab-df-spinner');\n",
              "      try {\n",
              "        const charts = await google.colab.kernel.invokeFunction(\n",
              "            'suggestCharts', [key], {});\n",
              "      } catch (error) {\n",
              "        console.error('Error during call to suggestCharts:', error);\n",
              "      }\n",
              "      quickchartButtonEl.classList.remove('colab-df-spinner');\n",
              "      quickchartButtonEl.classList.add('colab-df-quickchart-complete');\n",
              "    }\n",
              "    (() => {\n",
              "      let quickchartButtonEl =\n",
              "        document.querySelector('#df-df0ad242-6a50-472f-afeb-19d3d9c1e360 button');\n",
              "      quickchartButtonEl.style.display =\n",
              "        google.colab.kernel.accessAllowed ? 'block' : 'none';\n",
              "    })();\n",
              "  </script>\n",
              "</div>\n",
              "\n",
              "  <div id=\"id_86d9a46d-adc5-48fc-9dc5-c0a1b9a23705\">\n",
              "    <style>\n",
              "      .colab-df-generate {\n",
              "        background-color: #E8F0FE;\n",
              "        border: none;\n",
              "        border-radius: 50%;\n",
              "        cursor: pointer;\n",
              "        display: none;\n",
              "        fill: #1967D2;\n",
              "        height: 32px;\n",
              "        padding: 0 0 0 0;\n",
              "        width: 32px;\n",
              "      }\n",
              "\n",
              "      .colab-df-generate:hover {\n",
              "        background-color: #E2EBFA;\n",
              "        box-shadow: 0px 1px 2px rgba(60, 64, 67, 0.3), 0px 1px 3px 1px rgba(60, 64, 67, 0.15);\n",
              "        fill: #174EA6;\n",
              "      }\n",
              "\n",
              "      [theme=dark] .colab-df-generate {\n",
              "        background-color: #3B4455;\n",
              "        fill: #D2E3FC;\n",
              "      }\n",
              "\n",
              "      [theme=dark] .colab-df-generate:hover {\n",
              "        background-color: #434B5C;\n",
              "        box-shadow: 0px 1px 3px 1px rgba(0, 0, 0, 0.15);\n",
              "        filter: drop-shadow(0px 1px 2px rgba(0, 0, 0, 0.3));\n",
              "        fill: #FFFFFF;\n",
              "      }\n",
              "    </style>\n",
              "    <button class=\"colab-df-generate\" onclick=\"generateWithVariable('df')\"\n",
              "            title=\"Generate code using this dataframe.\"\n",
              "            style=\"display:none;\">\n",
              "\n",
              "  <svg xmlns=\"http://www.w3.org/2000/svg\" height=\"24px\"viewBox=\"0 0 24 24\"\n",
              "       width=\"24px\">\n",
              "    <path d=\"M7,19H8.4L18.45,9,17,7.55,7,17.6ZM5,21V16.75L18.45,3.32a2,2,0,0,1,2.83,0l1.4,1.43a1.91,1.91,0,0,1,.58,1.4,1.91,1.91,0,0,1-.58,1.4L9.25,21ZM18.45,9,17,7.55Zm-12,3A5.31,5.31,0,0,0,4.9,8.1,5.31,5.31,0,0,0,1,6.5,5.31,5.31,0,0,0,4.9,4.9,5.31,5.31,0,0,0,6.5,1,5.31,5.31,0,0,0,8.1,4.9,5.31,5.31,0,0,0,12,6.5,5.46,5.46,0,0,0,6.5,12Z\"/>\n",
              "  </svg>\n",
              "    </button>\n",
              "    <script>\n",
              "      (() => {\n",
              "      const buttonEl =\n",
              "        document.querySelector('#id_86d9a46d-adc5-48fc-9dc5-c0a1b9a23705 button.colab-df-generate');\n",
              "      buttonEl.style.display =\n",
              "        google.colab.kernel.accessAllowed ? 'block' : 'none';\n",
              "\n",
              "      buttonEl.onclick = () => {\n",
              "        google.colab.notebook.generateWithVariable('df');\n",
              "      }\n",
              "      })();\n",
              "    </script>\n",
              "  </div>\n",
              "\n",
              "    </div>\n",
              "  </div>\n"
            ],
            "application/vnd.google.colaboratory.intrinsic+json": {
              "type": "dataframe",
              "variable_name": "df",
              "summary": "{\n  \"name\": \"df\",\n  \"rows\": 3,\n  \"fields\": [\n    {\n      \"column\": \"Species\",\n      \"properties\": {\n        \"dtype\": \"number\",\n        \"std\": 1,\n        \"min\": 0,\n        \"max\": 2,\n        \"num_unique_values\": 3,\n        \"samples\": [\n          0,\n          1,\n          2\n        ],\n        \"semantic_type\": \"\",\n        \"description\": \"\"\n      }\n    },\n    {\n      \"column\": \"y_train\",\n      \"properties\": {\n        \"dtype\": \"number\",\n        \"std\": 30,\n        \"min\": 47,\n        \"max\": 106,\n        \"num_unique_values\": 3,\n        \"samples\": [\n          106,\n          86,\n          47\n        ],\n        \"semantic_type\": \"\",\n        \"description\": \"\"\n      }\n    },\n    {\n      \"column\": \"yr\",\n      \"properties\": {\n        \"dtype\": \"number\",\n        \"std\": 0,\n        \"min\": 106,\n        \"max\": 106,\n        \"num_unique_values\": 1,\n        \"samples\": [\n          106\n        ],\n        \"semantic_type\": \"\",\n        \"description\": \"\"\n      }\n    }\n  ]\n}"
            }
          },
          "metadata": {},
          "execution_count": 173
        }
      ]
    },
    {
      "cell_type": "code",
      "source": [
        "'''\n",
        "plot the two columns as grouped bars on the yaxis,\n",
        "  and the index is automatically set as the xaxis\n",
        "'''\n",
        "# create subplot\n",
        "fig, ax = plt.subplots(figsize=(3.5, 3.5), layout='constrained')\n",
        "\n",
        "# make the plot\n",
        "df.plot.bar(y=['y_train', 'yr'], rot=0, width=0.5,\n",
        "            color=['#e09f3e', '#023047'],\n",
        "            alpha=0.7,\n",
        "            ax=ax)\n",
        "\n",
        "# a few modifications\n",
        "ax.set_ylabel('Counts', weight='black', fontsize=9)\n",
        "ax.set_xlabel('Species', weight='black', fontsize=9)\n",
        "ax.set_yticks(range(0, 145, 20))\n",
        "ax.set_title('Training set Before & After resampling', fontsize=9.8,\n",
        "             pad=10)\n",
        "\n",
        "# modify lagend\n",
        "plt.legend(['Before', 'After'], ncols=2, markerscale=5, fontsize=9, fancybox=False)\n",
        "plt.show()"
      ],
      "metadata": {
        "colab": {
          "base_uri": "https://localhost:8080/",
          "height": 378
        },
        "id": "mR5Fejgscyp4",
        "outputId": "e8f2b804-2542-4faa-bf45-5fd8e360bd14"
      },
      "execution_count": null,
      "outputs": [
        {
          "output_type": "display_data",
          "data": {
            "text/plain": [
              "<Figure size 350x350 with 1 Axes>"
            ],
            "image/png": "[encoded data removed]"
          },
          "metadata": {}
        }
      ]
    },
    {
      "cell_type": "markdown",
      "source": [
        "> 📝 **Note**\n",
        "+ This time around, I only tried out oversampling using [`SVMSMOTE`](https://imbalanced-learn.org/stable/references/generated/imblearn.over_sampling.SVMSMOTE.html) and [`BorderlineSMOTE`](https://imbalanced-learn.org/stable/references/generated/imblearn.over_sampling.BorderlineSMOTE.html)  \n",
        "+ I went with results from [`SVMSMOTE`](https://imbalanced-learn.org/stable/references/generated/imblearn.over_sampling.SVMSMOTE.html) since they resulted in the better metrics"
      ],
      "metadata": {
        "id": "DU5O_g3bccZh"
      }
    },
    {
      "cell_type": "markdown",
      "source": [
        "## Modelling"
      ],
      "metadata": {
        "id": "a0ecWvrvZJjw"
      }
    },
    {
      "cell_type": "code",
      "source": [
        "!pip install catboost"
      ],
      "metadata": {
        "id": "u-pvj39uZiZW"
      },
      "execution_count": null,
      "outputs": []
    },
    {
      "cell_type": "code",
      "source": [
        "# import necessary libraries\n",
        "from sklearn.pipeline import Pipeline\n",
        "from catboost import CatBoostClassifier"
      ],
      "metadata": {
        "id": "5fQeEvo6ZMa4"
      },
      "execution_count": null,
      "outputs": []
    },
    {
      "cell_type": "markdown",
      "source": [
        "### Train a [`CatBoostClassifier`]() model"
      ],
      "metadata": {
        "id": "aYxr-uMAYTem"
      }
    },
    {
      "cell_type": "code",
      "source": [
        "%%time\n",
        "# pipeline with preprocesser + estimator\n",
        "cat_model = Pipeline(steps=[\n",
        "    # (name, estimator / transformer)\n",
        "    ('preprocess', preprocesser), # preprocesser\n",
        "    ('cbc', CatBoostClassifier(random_state=42,\n",
        "                               early_stopping_rounds = 10,\n",
        "                               eval_metric = 'Accuracy',\n",
        "                               iterations=100)) # estimator\n",
        "])\n",
        "\n",
        "# train the model\n",
        "cat_model.fit(Xr.values, yr.values,\n",
        "              cbc__eval_set=(preprocesser.fit_transform(X_test.values), y_test.values),\n",
        "              cbc__verbose=10)\n",
        "\n",
        "# make predictions\n",
        "y_pred = cat_model.predict(X_test.values)"
      ],
      "metadata": {
        "colab": {
          "base_uri": "https://localhost:8080/"
        },
        "id": "3S1Fw8fcZwp5",
        "outputId": "f74fa339-738b-4e9b-a974-7fd327245298"
      },
      "execution_count": null,
      "outputs": [
        {
          "output_type": "stream",
          "name": "stdout",
          "text": [
            "Learning rate set to 0.254318\n",
            "0:\tlearn: 0.9654088\ttest: 0.9708738\tbest: 0.9708738 (0)\ttotal: 5ms\tremaining: 495ms\n",
            "10:\tlearn: 0.9905660\ttest: 0.9805825\tbest: 0.9805825 (1)\ttotal: 23.8ms\tremaining: 192ms\n",
            "Stopped by overfitting detector  (10 iterations wait)\n",
            "\n",
            "bestTest = 0.9805825243\n",
            "bestIteration = 1\n",
            "\n",
            "Shrink model to first 2 iterations.\n",
            "CPU times: user 63.2 ms, sys: 7.92 ms, total: 71.1 ms\n",
            "Wall time: 71.2 ms\n"
          ]
        }
      ]
    },
    {
      "cell_type": "markdown",
      "source": [
        "> Funny how the dataset was trained with only one tree decision tree! 😹😹😹"
      ],
      "metadata": {
        "id": "l7gEMqzVfFP8"
      }
    },
    {
      "cell_type": "markdown",
      "source": [
        "## Evaluation"
      ],
      "metadata": {
        "id": "Kjcq2ZKuaKOX"
      }
    },
    {
      "cell_type": "code",
      "source": [
        "# import\n",
        "from sklearn.metrics import ConfusionMatrixDisplay"
      ],
      "metadata": {
        "id": "mEydpjiJaTII"
      },
      "execution_count": null,
      "outputs": []
    },
    {
      "cell_type": "code",
      "source": [
        "# define function to plot confusion_matrix\n",
        "def plot_confusion_matrix(y_test, y_pred):\n",
        "  # specify stylesheet\n",
        "  plt.style.use('fast')\n",
        "\n",
        "  # define figure and Axes\n",
        "  fig, ax = plt.subplots(figsize=(3, 3), layout='constrained')\n",
        "\n",
        "  # plot confusion_matrix\n",
        "  ConfusionMatrixDisplay.from_predictions(y_test, y_pred,\n",
        "                                          cmap='Blues',\n",
        "                                          colorbar=False,\n",
        "                                          ax=ax)\n",
        "\n",
        "  # move xticks and xlabel to top\n",
        "  ax.xaxis.tick_top()\n",
        "  ax.xaxis.set_label_position('top')\n",
        "\n",
        "  # modify xlabel and ylabel colors\n",
        "  ax.set_ylabel('Actual Labels', weight='black', color='#003262')\n",
        "  ax.set_xlabel('Predicted Labels', weight='black', color='#E52B50')\n",
        "\n",
        "  plt.show()"
      ],
      "metadata": {
        "id": "-xl9-VavaOHf"
      },
      "execution_count": null,
      "outputs": []
    },
    {
      "cell_type": "markdown",
      "source": [
        "### Visualize `confusion_matrix` using [`ConfusionMatrixDisplay`](https://scikit-learn.org/stable/modules/generated/sklearn.metrics.ConfusionMatrixDisplay.html)"
      ],
      "metadata": {
        "id": "xmC691S8Ybds"
      }
    },
    {
      "cell_type": "code",
      "source": [
        "plot_confusion_matrix(y_test, y_pred)"
      ],
      "metadata": {
        "colab": {
          "base_uri": "https://localhost:8080/",
          "height": 328
        },
        "id": "hJWS2gsVasmo",
        "outputId": "74e1256c-885f-4fff-98c9-7f27dcb26ad4"
      },
      "execution_count": null,
      "outputs": [
        {
          "output_type": "display_data",
          "data": {
            "text/plain": [
              "<Figure size 300x300 with 1 Axes>"
            ],
            "image/png": "[encoded data removed]"
          },
          "metadata": {}
        }
      ]
    },
    {
      "cell_type": "markdown",
      "source": [
        "### [`classification_report`](https://scikit-learn.org/stable/modules/generated/sklearn.metrics.classification_report.html)\n",
        "\n"
      ],
      "metadata": {
        "id": "flpd2eaUYhop"
      }
    },
    {
      "cell_type": "code",
      "source": [
        "# classification report\n",
        "from sklearn.metrics import classification_report\n",
        "\n",
        "print(classification_report(y_test, y_pred))"
      ],
      "metadata": {
        "colab": {
          "base_uri": "https://localhost:8080/"
        },
        "id": "QzO0f5-8eIRA",
        "outputId": "09a8dba2-63a8-4973-8987-7499778a2ae2"
      },
      "execution_count": null,
      "outputs": [
        {
          "output_type": "stream",
          "name": "stdout",
          "text": [
            "              precision    recall  f1-score   support\n",
            "\n",
            "           0       1.00      0.98      0.99        45\n",
            "           1       0.97      1.00      0.99        37\n",
            "           2       0.95      0.95      0.95        21\n",
            "\n",
            "    accuracy                           0.98       103\n",
            "   macro avg       0.98      0.98      0.98       103\n",
            "weighted avg       0.98      0.98      0.98       103\n",
            "\n"
          ]
        }
      ]
    },
    {
      "cell_type": "markdown",
      "source": [
        "### `roc` curve (OvR Multiclass approach)"
      ],
      "metadata": {
        "id": "XyFQrCV1ggaI"
      }
    },
    {
      "cell_type": "markdown",
      "source": [
        "#### Explanation"
      ],
      "metadata": {
        "id": "6qdlWmdzkU92"
      }
    },
    {
      "cell_type": "markdown",
      "source": [
        "> 📚 **Background**\n",
        "+ In a binary classification problem, the probabilities for `[:, 1]` are usually passed to the `y_score` parameter of the [`roc_curve`](https://scikit-learn.org/stable/modules/generated/sklearn.metrics.roc_auc_score.html) method since in a binary classification problem, these represent the probabilties of the +ve class, (class `1`)\n",
        "+ By selecting the probabilities of each sample belonging to the positive class (class `1`), this is used to compute the `ROC` curve, which evaluates the performance of the classifier in distinguishing the positive class; `1` from the negative class; `0`\n",
        "+ By focusing on `[:, 1]`, you are effectively using the classifier's output to measure its ability to correctly identify the positive class, which is essential for evaluating and comparing classifiers in binary classification tasks."
      ],
      "metadata": {
        "id": "InJjpaw8eBb1"
      }
    },
    {
      "cell_type": "markdown",
      "source": [
        "> 🔢 **Multiclass classification (OvR)**  \n",
        "\n",
        "> Therefore, in a multiclass classification problem using the One-vs-Rest (OvR) approach for plotting `ROC` curves, we handle each class as the positive class, `1` in turn, and treat all the other classes collectively as negative, `0`\n",
        "+ Get probability estimates for each class\n",
        "+ Convert true labels into a binary format suitable for `ROC` curve computation (using [`scikit-learn's`](https://scikit-learn.org/stable/index.html) [`label_binarize`](https://scikit-learn.org/stable/modules/generated/sklearn.preprocessing.label_binarize.html) method)\n",
        "+ Compute False Positive Rates; `fpr` and True Positive Rates; `tpr` for each class.\n",
        "+ Calculate the ROC AUC score for each class"
      ],
      "metadata": {
        "id": "21P1Q-cxf9IT"
      }
    },
    {
      "cell_type": "markdown",
      "source": [
        "> 🔧 [**`label_binarize`**](https://scikit-learn.org/stable/modules/generated/sklearn.preprocessing.label_binarize.html)\n",
        "\n",
        "> This method is used to _Binarize_ labels in a _one-vs-all_ fashion\n",
        "+ Offers a way to extend binary classification algorithms to the multi-class classification case\n",
        "+ `label_binarize` helps in transforming label data into a format suitable for various evaluation metrics and model assessments that require binary classification input.\n",
        "+ For multiclass classification problems, `label_binarize` converts a single vector of class labels into a binary format where each class is represented by a separate binary column.\n",
        "+ Each row in the binary matrix corresponds to an instance in the original labels, and each column corresponds to a class. The entry is `1` if the instance belongs to that class and `0` otherwise"
      ],
      "metadata": {
        "id": "cPYTcKZGh-8c"
      }
    },
    {
      "cell_type": "markdown",
      "source": [
        "#### Plotting"
      ],
      "metadata": {
        "id": "Pe1ZrGAfkXyE"
      }
    },
    {
      "cell_type": "code",
      "source": [
        "# import necessary classes and functions\n",
        "from sklearn.metrics import roc_curve, roc_auc_score, auc\n",
        "from sklearn.preprocessing import label_binarize"
      ],
      "metadata": {
        "id": "W0_nZAeWgLMh"
      },
      "execution_count": null,
      "outputs": []
    },
    {
      "cell_type": "code",
      "source": [
        "# define a function that plots multiclass ROC curve (OvR approach)\n",
        "def plot_multiclass_roc_curve(model, X_test, y_test):\n",
        "  # color_list\n",
        "  color_list = ['#023e8a', '#ff3800', '#03c03c']\n",
        "\n",
        "  # binarize y_test\n",
        "  y_test_bin = label_binarize(y_test, classes=list(y_test.unique()))\n",
        "\n",
        "  # predicted classes probabilities\n",
        "  y_proba = cat_model.predict_proba(X_test.values)\n",
        "\n",
        "  # average auc\n",
        "  av_auc = roc_auc_score(y_true=y_test, y_score=y_proba, multi_class='ovr')\n",
        "\n",
        "  # initialize a figure and Axes\n",
        "  fig, ax = plt.subplots(figsize=(4, 4), layout='constrained')\n",
        "\n",
        "  for i in range(y_test.nunique()):\n",
        "    # get fpr, tpr, auc\n",
        "    fpr, tpr, _ = roc_curve(y_true=y_test_bin[:, i] , y_score=y_proba[:, i])\n",
        "    area = auc(fpr, tpr)\n",
        "\n",
        "    # plot ROC curve for this current class as +ve and others as -v\n",
        "    ax.plot(fpr, tpr, linestyle='--', linewidth=1.7,\n",
        "            color=color_list[i],\n",
        "            label=f'Class {i} vs Rest (AUC = {round(area, 2)})')\n",
        "\n",
        "  # title & labels\n",
        "  ax.set_title('Multiclass ROC Curve (OvR)', fontsize=10.5, weight='black')\n",
        "  ax.set_ylabel('True Positive Rate')\n",
        "  ax.set_xlabel('False Positive Rate')\n",
        "\n",
        "  # include legend\n",
        "  plt.legend(fontsize=8.5)\n",
        "  plt.show()"
      ],
      "metadata": {
        "id": "OnPsKh_ggqja"
      },
      "execution_count": null,
      "outputs": []
    },
    {
      "cell_type": "code",
      "source": [
        "# plot roc curve\n",
        "plot_multiclass_roc_curve(cat_model, X_test, y_test)"
      ],
      "metadata": {
        "colab": {
          "base_uri": "https://localhost:8080/",
          "height": 428
        },
        "id": "ctiK2tICfe5J",
        "outputId": "c11448f8-3660-4df4-d876-5aa82de137d5"
      },
      "execution_count": null,
      "outputs": [
        {
          "output_type": "display_data",
          "data": {
            "text/plain": [
              "<Figure size 400x400 with 1 Axes>"
            ],
            "image/png": "[encoded data removed]"
          },
          "metadata": {}
        }
      ]
    },
    {
      "cell_type": "markdown",
      "source": [
        "### Average [`roc_auc_score`](https://scikit-learn.org/stable/modules/generated/sklearn.metrics.roc_auc_score.html)"
      ],
      "metadata": {
        "id": "0Dn0V0IgdaUj"
      }
    },
    {
      "cell_type": "code",
      "source": [
        "# average auc\n",
        "av_auc = roc_auc_score(y_true=y_test,\n",
        "                       y_score=cat_model.predict_proba(X_test.values),\n",
        "                       multi_class='ovr')\n",
        "\n",
        "# print\n",
        "print(f'Average AUC: {round(av_auc, 2)}')"
      ],
      "metadata": {
        "colab": {
          "base_uri": "https://localhost:8080/"
        },
        "id": "TLKu2i1Rg-_L",
        "outputId": "5c4b2a9e-a1f7-4ee7-f39c-b2cca63d43a1"
      },
      "execution_count": null,
      "outputs": [
        {
          "output_type": "stream",
          "name": "stdout",
          "text": [
            "Average AUC: 0.99\n"
          ]
        }
      ]
    },
    {
      "cell_type": "markdown",
      "source": [
        "## Save the model\n",
        "> Saving the model for inferencing"
      ],
      "metadata": {
        "id": "2ZGMunLTZ-g5"
      }
    },
    {
      "cell_type": "markdown",
      "source": [
        "### Dump"
      ],
      "metadata": {
        "id": "-VFX8EIMiigM"
      }
    },
    {
      "cell_type": "code",
      "source": [
        "# import joblib\n",
        "import joblib\n",
        "\n",
        "filename = 'penguin_model.pkl'\n",
        "joblib.dump(cat_model, filename)"
      ],
      "metadata": {
        "colab": {
          "base_uri": "https://localhost:8080/"
        },
        "id": "TcRFcOiDaL8n",
        "outputId": "eabce35d-3e13-4dee-ac6b-01aa5e749ca2"
      },
      "execution_count": null,
      "outputs": [
        {
          "output_type": "execute_result",
          "data": {
            "text/plain": [
              "['penguin_model.pkl']"
            ]
          },
          "metadata": {},
          "execution_count": 164
        }
      ]
    },
    {
      "cell_type": "markdown",
      "source": [
        "### Use the model for inferencing  \n",
        "> 📝 **Note**\n",
        "+ The model accepts an array of feature arrays  \n",
        "+ Hence, one can predict the classes of multiple patients in a single call"
      ],
      "metadata": {
        "id": "QB8Q8RFHbDJ1"
      }
    },
    {
      "cell_type": "code",
      "source": [
        "# load model\n",
        "model = joblib.load(filename)\n",
        "import numpy as np\n",
        "\n",
        "# penguin classes\n",
        "penguin_classes = ['Adelie', 'Gentoo', 'Chinstrap']"
      ],
      "metadata": {
        "id": "x6Qu45tmbUru"
      },
      "execution_count": null,
      "outputs": []
    },
    {
      "cell_type": "code",
      "source": [
        "# An array of features\n",
        "X_new = np.array([[50.4,15.3,224,5550]])\n",
        "\n",
        "print(X_new)\n",
        "print(f'Predicted class: {penguin_classes[model.predict(X_new)[0, 0]]}')"
      ],
      "metadata": {
        "colab": {
          "base_uri": "https://localhost:8080/"
        },
        "id": "lzR-EWKqYLi6",
        "outputId": "a2ba5440-337e-47eb-abe6-ec29ba0d4f2c"
      },
      "execution_count": null,
      "outputs": [
        {
          "output_type": "stream",
          "name": "stdout",
          "text": [
            "[[  50.4   15.3  224.  5550. ]]\n",
            "Predicted class: Gentoo\n"
          ]
        }
      ]
    },
    {
      "cell_type": "code",
      "source": [
        "# let's try inferencing using an array of two features\n",
        "X_new = np.array([[49.5,18.4,195, 3600],\n",
        "         [38.2,20.1,190,3900]])\n",
        "\n",
        "# print features, prediction\n",
        "for prediction, features in zip(model.predict(X_new), X_new):\n",
        "  print(features, penguin_classes[prediction[0]])"
      ],
      "metadata": {
        "colab": {
          "base_uri": "https://localhost:8080/"
        },
        "id": "gHI4wpDCcPM_",
        "outputId": "80766646-3ca2-4801-9e12-d7ad1f9a6620"
      },
      "execution_count": null,
      "outputs": [
        {
          "output_type": "stream",
          "name": "stdout",
          "text": [
            "[  49.5   18.4  195.  3600. ] Chinstrap\n",
            "[  38.2   20.1  190.  3900. ] Adelie\n"
          ]
        }
      ]
    },
    {
      "cell_type": "markdown",
      "source": [
        "> 👋 **Last words**\n",
        "\n",
        "> Until next time, happy _cat_boosting!_ 😹😹😹"
      ],
      "metadata": {
        "id": "WwFIMPB_hqHY"
      }
    }
  ]
}