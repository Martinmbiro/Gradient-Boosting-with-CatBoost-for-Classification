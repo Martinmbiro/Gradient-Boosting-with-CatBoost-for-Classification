{
  "nbformat": 4,
  "nbformat_minor": 0,
  "metadata": {
    "colab": {
      "provenance": [],
      "toc_visible": true,
      "authorship_tag": "ABX9TyMKeDnEIaf5oaKmZd6FbBSq",
      "include_colab_link": true
    },
    "kernelspec": {
      "name": "python3",
      "display_name": "Python 3"
    },
    "language_info": {
      "name": "python"
    }
  },
  "cells": [
    {
      "cell_type": "markdown",
      "metadata": {
        "id": "view-in-github",
        "colab_type": "text"
      },
      "source": [
        "<a href=\"https://colab.research.google.com/github/Martinmbiro/Gradient-Boosting-with-CatBoot-for-Classification/blob/main/01%20Intro%20and%20the%20dataset.ipynb\" target=\"_parent\"><img src=\"https://colab.research.google.com/assets/colab-badge.svg\" alt=\"Open In Colab\"/></a>"
      ]
    },
    {
      "cell_type": "markdown",
      "source": [
        "# **Classification**\n",
        "---\n",
        "> _Classification_ is a form of *supervised machine learning* where a model is trained to predict which **category** an item belongs to.\n",
        "+ In classification, the target variable is **discrete**  \n",
        "\n",
        "> Since it's a form supervised machine learning, the model is trained using pairs of already-known features and already-known label values\n",
        "\n",
        "> Classification algorithms fit a subset of the data into a function that can calculate the probability for each class label `y`, from the feature values, `x`.   \n",
        "\n",
        "> In other words, we need a function that calculates a probability value for `y` based on `x`\n",
        "```\n",
        "Think of the function like this:\n",
        "  y = f([x1, x2, x3... xn])\n",
        "```"
      ],
      "metadata": {
        "id": "nAr1qIyYFNQR"
      }
    },
    {
      "cell_type": "markdown",
      "source": [
        "> Most of the time, a threshold value of 0.5 is used as the cut-off point for the class label prediction.  \n",
        ">> + **Binary classification** is used to predict a target variable that has only two labels (for instance, `True` or `False`, `span` or `ham`, `boat` or `track`), typically represented numerically as `0` and `1`  \n",
        ">> + **Multiclass classification** on the other hand, has more than two exclusive class labels (for instance, `type1`, `type1` or `type3` diabetes), where the goal is to predict to which class a given input belongs"
      ],
      "metadata": {
        "id": "9nxiqJC6Fvuc"
      }
    },
    {
      "cell_type": "markdown",
      "source": [
        "# **The task**\n",
        "---\n",
        "> This module entails performing binary and multiclass classification\n",
        "+ **Binary classification** - Patient data will be used to predict whether a patient is _diabetic_ or _non-diabetic_\n",
        "+ **Multiclass classification** - Penguin data will be used to predict whether a penguin belongs to either one of three species: _Adelie_, _Gentoo_, or _Chinstrap_"
      ],
      "metadata": {
        "id": "swIxQtuNIY7R"
      }
    },
    {
      "cell_type": "markdown",
      "source": [
        "# **The Data**\n"
      ],
      "metadata": {
        "id": "qRSob8_yHqUx"
      }
    },
    {
      "cell_type": "markdown",
      "source": [
        "## For the binary classification task\n",
        "> The dataset, [`diabetes.csv`](https://raw.githubusercontent.com/MicrosoftDocs/mslearn-introduction-to-machine-learning/main/Data/ml-basics/diabetes.csv) consists of diagnostic information about some patients who have been tested for diabetes 💉💊\n",
        "\n",
        "> **Citation:** The diabetes dataset used in this exercise is based on _female_ data, originally collected by the National Institute of Diabetes and Digestive and Kidney Diseases."
      ],
      "metadata": {
        "id": "QF95ojXCiIw1"
      }
    },
    {
      "cell_type": "markdown",
      "source": [
        "> The dataset, consists of the following columns:\n",
        "+ **Pregnancies:** Number of times pregnant    \n",
        "+ **PlasmaGlucose:** Plasma glucose concentration a 2 hours in an oral glucose tolerance test  \n",
        "+ **DiastolicBloodPressure:** Diastolic blood pressure (mm Hg)  \n",
        "+ **TricepsThickness:** Triceps skin fold thickness (mm)  \n",
        "+ **SerumInsulin:** 2-Hour serum insulin (mu U/ml)\n",
        "+ **BMI:** Body Mass Index (kg/$m^2$)\n",
        "+ **DiabetesPedigree:** Diabetes pedigree function  \n",
        "+ **Age:** Age in years  \n",
        "+ **Diabetic:** This is the label that we will train our model to predict. It contains the value `0` for patients who tested _negative_ for diabetes, and `1` for patients who tested _positive_."
      ],
      "metadata": {
        "id": "29UC64l5JNnO"
      }
    },
    {
      "cell_type": "markdown",
      "source": [
        "## For the multiclass classification task  \n",
        "> The dataset, [`peguins.csv`](https://raw.githubusercontent.com/MicrosoftDocs/mslearn-introduction-to-machine-learning/main/Data/ml-basics/penguins.csv), contains observations from three different penguin species 🐧\n",
        "\n",
        "> **Citation:** The penguins dataset used in the this exercise is a subset of data collected and made available by [`Dr. Kristen Gorman`](https://www.uaf.edu/cfos/people/faculty/detail/kristen-gorman.php) and the [`Palmer Station`](https://lternet.edu/site/palmer-antarctica-lter), [`Antarctica LTER`](https://lternet.edu/site/palmer-antarctica-lter), a member of the [`Long Term Ecological Research Network`](https://lternet.edu/)."
      ],
      "metadata": {
        "id": "XiISLs4eiMVk"
      }
    },
    {
      "cell_type": "markdown",
      "source": [
        "> The dataset contains the following columns:\n",
        "+ **CulmenLength:** The length in mm of the penguin's culmen (bill).\n",
        "+ **CulmenDepth:** The depth in mm of the penguin's culmen.\n",
        "+ **FlipperLength:** The length in mm of the penguin's flipper.\n",
        "+ **BodyMass:** The body mass of the penguin in grams.\n",
        "+ **Species:** An integer value that represents the species of the penguin.  \n",
        "\n",
        "> The `Species` column is the label we want to train a model to predict. The dataset includes three possible species, which are encoded as `0`, `1`, and `2`, corresponding to `Adelie`, `Gentoo`, and `Chinstrap`"
      ],
      "metadata": {
        "id": "mHZz1MdGiPvk"
      }
    }
  ]
}