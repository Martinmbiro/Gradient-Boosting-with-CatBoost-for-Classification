{
  "nbformat": 4,
  "nbformat_minor": 0,
  "metadata": {
    "colab": {
      "provenance": [],
      "collapsed_sections": [
        "KvLnccjxeliv",
        "Wv1pStCrg95M",
        "gqup-z-IazBk",
        "hWyA4tXFfs1a",
        "0Dk6sDT3gI64",
        "X4Pj9O0FlQOh",
        "7ef3VQEegvCR",
        "HOIV5yeGiUug"
      ],
      "toc_visible": true,
      "authorship_tag": "ABX9TyPhbpZGGX/f8AWWq0aVxYQ1",
      "include_colab_link": true
    },
    "kernelspec": {
      "name": "python3",
      "display_name": "Python 3"
    },
    "language_info": {
      "name": "python"
    }
  },
  "cells": [
    {
      "cell_type": "markdown",
      "metadata": {
        "id": "view-in-github",
        "colab_type": "text"
      },
      "source": [
        "<a href=\"https://colab.research.google.com/github/Martinmbiro/Gradient-Boosting-with-CatBoot-for-Classification/blob/main/04%20Binary%20Classification%20CatBoost.ipynb\" target=\"_parent\"><img src=\"https://colab.research.google.com/assets/colab-badge.svg\" alt=\"Open In Colab\"/></a>"
      ]
    },
    {
      "cell_type": "markdown",
      "source": [
        "# **Upscaling with [`CatBoost`](https://catboost.ai/en/docs/)**  \n",
        "> 😺 **CatBoost**  \n",
        "\n",
        "> [`CatBoost`](https://catboost.ai/en/docs/) is an open source machine learning library that uses _gradient boosting_ on _decision trees._  \n",
        "+ In this notebook, we'll see how much better of a model we can achieve using [`CatBoostClassifier`](https://catboost.ai/en/docs/concepts/python-reference_catboostclassifier) which provides compatibility with [`scikit-learn`](https://scikit-learn.org/stable/index.html) tools"
      ],
      "metadata": {
        "id": "N79bf1wac9-G"
      }
    },
    {
      "cell_type": "markdown",
      "source": [
        "## Load the data"
      ],
      "metadata": {
        "id": "KvLnccjxeliv"
      }
    },
    {
      "cell_type": "code",
      "execution_count": null,
      "metadata": {
        "id": "nHh7Lyn0cMDH"
      },
      "outputs": [],
      "source": [
        "# import pandas\n",
        "import pandas as pd\n",
        "\n",
        "# load the training dataset\n",
        "!wget https://raw.githubusercontent.com/MicrosoftDocs/mslearn-introduction-to-machine-learning/main/Data/ml-basics/diabetes.csv\n",
        "diabetes = pd.read_csv('diabetes.csv')"
      ]
    },
    {
      "cell_type": "code",
      "source": [
        "# view dataframe information\n",
        "diabetes.info()"
      ],
      "metadata": {
        "colab": {
          "base_uri": "https://localhost:8080/"
        },
        "id": "fdHDZo6BgFsV",
        "outputId": "00346a3a-b3a7-4276-e393-ab6808c15343"
      },
      "execution_count": null,
      "outputs": [
        {
          "output_type": "stream",
          "name": "stdout",
          "text": [
            "<class 'pandas.core.frame.DataFrame'>\n",
            "RangeIndex: 15000 entries, 0 to 14999\n",
            "Data columns (total 10 columns):\n",
            " #   Column                  Non-Null Count  Dtype  \n",
            "---  ------                  --------------  -----  \n",
            " 0   PatientID               15000 non-null  int64  \n",
            " 1   Pregnancies             15000 non-null  int64  \n",
            " 2   PlasmaGlucose           15000 non-null  int64  \n",
            " 3   DiastolicBloodPressure  15000 non-null  int64  \n",
            " 4   TricepsThickness        15000 non-null  int64  \n",
            " 5   SerumInsulin            15000 non-null  int64  \n",
            " 6   BMI                     15000 non-null  float64\n",
            " 7   DiabetesPedigree        15000 non-null  float64\n",
            " 8   Age                     15000 non-null  int64  \n",
            " 9   Diabetic                15000 non-null  int64  \n",
            "dtypes: float64(2), int64(8)\n",
            "memory usage: 1.1 MB\n"
          ]
        }
      ]
    },
    {
      "cell_type": "code",
      "source": [
        "'''\n",
        "  Split data into features and labels\n",
        "  -----------------------------------\n",
        "'''\n",
        "from sklearn.model_selection import train_test_split\n",
        "\n",
        "features = ['Pregnancies','PlasmaGlucose','DiastolicBloodPressure',\n",
        "            'TricepsThickness','SerumInsulin','BMI','DiabetesPedigree','Age']\n",
        "label = 'Diabetic'\n",
        "\n",
        "# features\n",
        "X, y = diabetes[features], diabetes[label]\n",
        "\n",
        "# split into training and validation / test sets:\n",
        "X_train, X_test, y_train, y_test = train_test_split(X, y, test_size=0.3,\n",
        "                                                    random_state=0)\n",
        "\n",
        "'''\n",
        "  Specify indices of categorical and numeric features (for preprocessing)\n",
        "  -----------------------------------------------------------------------\n",
        "'''\n",
        "# numeric\n",
        "num_feature_indices = [0, 1, 2, 3, 4, 5, 6]\n",
        "\n",
        "# !Recall Age will be considered a categorical feature\n",
        "cat_feature_indices = [7]\n",
        "\n",
        "# a sneak-peek into the features dataframe\n",
        "X.sample(3)"
      ],
      "metadata": {
        "colab": {
          "base_uri": "https://localhost:8080/",
          "height": 163
        },
        "id": "4f5AFIole1uV",
        "outputId": "2f533639-2440-43cf-b4eb-94e31c1acdee"
      },
      "execution_count": null,
      "outputs": [
        {
          "output_type": "execute_result",
          "data": {
            "text/plain": [
              "       Pregnancies  PlasmaGlucose  DiastolicBloodPressure  TricepsThickness  \\\n",
              "2853             9             58                      64                53   \n",
              "1661             3            144                      74                53   \n",
              "10550            3            147                      91                48   \n",
              "\n",
              "       SerumInsulin        BMI  DiabetesPedigree  Age  \n",
              "2853            343  30.267029          1.338986   23  \n",
              "1661            227  31.939786          0.984427   33  \n",
              "10550            79  30.002245          0.895373   40  "
            ],
            "text/html": [
              "\n",
              "  <div id=\"df-2a45e76c-7857-4ed2-ad58-81a987f68795\" class=\"colab-df-container\">\n",
              "    <div>\n",
              "<style scoped>\n",
              "    .dataframe tbody tr th:only-of-type {\n",
              "        vertical-align: middle;\n",
              "    }\n",
              "\n",
              "    .dataframe tbody tr th {\n",
              "        vertical-align: top;\n",
              "    }\n",
              "\n",
              "    .dataframe thead th {\n",
              "        text-align: right;\n",
              "    }\n",
              "</style>\n",
              "<table border=\"1\" class=\"dataframe\">\n",
              "  <thead>\n",
              "    <tr style=\"text-align: right;\">\n",
              "      <th></th>\n",
              "      <th>Pregnancies</th>\n",
              "      <th>PlasmaGlucose</th>\n",
              "      <th>DiastolicBloodPressure</th>\n",
              "      <th>TricepsThickness</th>\n",
              "      <th>SerumInsulin</th>\n",
              "      <th>BMI</th>\n",
              "      <th>DiabetesPedigree</th>\n",
              "      <th>Age</th>\n",
              "    </tr>\n",
              "  </thead>\n",
              "  <tbody>\n",
              "    <tr>\n",
              "      <th>2853</th>\n",
              "      <td>9</td>\n",
              "      <td>58</td>\n",
              "      <td>64</td>\n",
              "      <td>53</td>\n",
              "      <td>343</td>\n",
              "      <td>30.267029</td>\n",
              "      <td>1.338986</td>\n",
              "      <td>23</td>\n",
              "    </tr>\n",
              "    <tr>\n",
              "      <th>1661</th>\n",
              "      <td>3</td>\n",
              "      <td>144</td>\n",
              "      <td>74</td>\n",
              "      <td>53</td>\n",
              "      <td>227</td>\n",
              "      <td>31.939786</td>\n",
              "      <td>0.984427</td>\n",
              "      <td>33</td>\n",
              "    </tr>\n",
              "    <tr>\n",
              "      <th>10550</th>\n",
              "      <td>3</td>\n",
              "      <td>147</td>\n",
              "      <td>91</td>\n",
              "      <td>48</td>\n",
              "      <td>79</td>\n",
              "      <td>30.002245</td>\n",
              "      <td>0.895373</td>\n",
              "      <td>40</td>\n",
              "    </tr>\n",
              "  </tbody>\n",
              "</table>\n",
              "</div>\n",
              "    <div class=\"colab-df-buttons\">\n",
              "\n",
              "  <div class=\"colab-df-container\">\n",
              "    <button class=\"colab-df-convert\" onclick=\"convertToInteractive('df-2a45e76c-7857-4ed2-ad58-81a987f68795')\"\n",
              "            title=\"Convert this dataframe to an interactive table.\"\n",
              "            style=\"display:none;\">\n",
              "\n",
              "  <svg xmlns=\"http://www.w3.org/2000/svg\" height=\"24px\" viewBox=\"0 -960 960 960\">\n",
              "    <path d=\"M120-120v-720h720v720H120Zm60-500h600v-160H180v160Zm220 220h160v-160H400v160Zm0 220h160v-160H400v160ZM180-400h160v-160H180v160Zm440 0h160v-160H620v160ZM180-180h160v-160H180v160Zm440 0h160v-160H620v160Z\"/>\n",
              "  </svg>\n",
              "    </button>\n",
              "\n",
              "  <style>\n",
              "    .colab-df-container {\n",
              "      display:flex;\n",
              "      gap: 12px;\n",
              "    }\n",
              "\n",
              "    .colab-df-convert {\n",
              "      background-color: #E8F0FE;\n",
              "      border: none;\n",
              "      border-radius: 50%;\n",
              "      cursor: pointer;\n",
              "      display: none;\n",
              "      fill: #1967D2;\n",
              "      height: 32px;\n",
              "      padding: 0 0 0 0;\n",
              "      width: 32px;\n",
              "    }\n",
              "\n",
              "    .colab-df-convert:hover {\n",
              "      background-color: #E2EBFA;\n",
              "      box-shadow: 0px 1px 2px rgba(60, 64, 67, 0.3), 0px 1px 3px 1px rgba(60, 64, 67, 0.15);\n",
              "      fill: #174EA6;\n",
              "    }\n",
              "\n",
              "    .colab-df-buttons div {\n",
              "      margin-bottom: 4px;\n",
              "    }\n",
              "\n",
              "    [theme=dark] .colab-df-convert {\n",
              "      background-color: #3B4455;\n",
              "      fill: #D2E3FC;\n",
              "    }\n",
              "\n",
              "    [theme=dark] .colab-df-convert:hover {\n",
              "      background-color: #434B5C;\n",
              "      box-shadow: 0px 1px 3px 1px rgba(0, 0, 0, 0.15);\n",
              "      filter: drop-shadow(0px 1px 2px rgba(0, 0, 0, 0.3));\n",
              "      fill: #FFFFFF;\n",
              "    }\n",
              "  </style>\n",
              "\n",
              "    <script>\n",
              "      const buttonEl =\n",
              "        document.querySelector('#df-2a45e76c-7857-4ed2-ad58-81a987f68795 button.colab-df-convert');\n",
              "      buttonEl.style.display =\n",
              "        google.colab.kernel.accessAllowed ? 'block' : 'none';\n",
              "\n",
              "      async function convertToInteractive(key) {\n",
              "        const element = document.querySelector('#df-2a45e76c-7857-4ed2-ad58-81a987f68795');\n",
              "        const dataTable =\n",
              "          await google.colab.kernel.invokeFunction('convertToInteractive',\n",
              "                                                    [key], {});\n",
              "        if (!dataTable) return;\n",
              "\n",
              "        const docLinkHtml = 'Like what you see? Visit the ' +\n",
              "          '<a target=\"_blank\" href=https://colab.research.google.com/notebooks/data_table.ipynb>data table notebook</a>'\n",
              "          + ' to learn more about interactive tables.';\n",
              "        element.innerHTML = '';\n",
              "        dataTable['output_type'] = 'display_data';\n",
              "        await google.colab.output.renderOutput(dataTable, element);\n",
              "        const docLink = document.createElement('div');\n",
              "        docLink.innerHTML = docLinkHtml;\n",
              "        element.appendChild(docLink);\n",
              "      }\n",
              "    </script>\n",
              "  </div>\n",
              "\n",
              "\n",
              "<div id=\"df-b1176440-19ad-4bcb-923a-47198da3b1ea\">\n",
              "  <button class=\"colab-df-quickchart\" onclick=\"quickchart('df-b1176440-19ad-4bcb-923a-47198da3b1ea')\"\n",
              "            title=\"Suggest charts\"\n",
              "            style=\"display:none;\">\n",
              "\n",
              "<svg xmlns=\"http://www.w3.org/2000/svg\" height=\"24px\"viewBox=\"0 0 24 24\"\n",
              "     width=\"24px\">\n",
              "    <g>\n",
              "        <path d=\"M19 3H5c-1.1 0-2 .9-2 2v14c0 1.1.9 2 2 2h14c1.1 0 2-.9 2-2V5c0-1.1-.9-2-2-2zM9 17H7v-7h2v7zm4 0h-2V7h2v10zm4 0h-2v-4h2v4z\"/>\n",
              "    </g>\n",
              "</svg>\n",
              "  </button>\n",
              "\n",
              "<style>\n",
              "  .colab-df-quickchart {\n",
              "      --bg-color: #E8F0FE;\n",
              "      --fill-color: #1967D2;\n",
              "      --hover-bg-color: #E2EBFA;\n",
              "      --hover-fill-color: #174EA6;\n",
              "      --disabled-fill-color: #AAA;\n",
              "      --disabled-bg-color: #DDD;\n",
              "  }\n",
              "\n",
              "  [theme=dark] .colab-df-quickchart {\n",
              "      --bg-color: #3B4455;\n",
              "      --fill-color: #D2E3FC;\n",
              "      --hover-bg-color: #434B5C;\n",
              "      --hover-fill-color: #FFFFFF;\n",
              "      --disabled-bg-color: #3B4455;\n",
              "      --disabled-fill-color: #666;\n",
              "  }\n",
              "\n",
              "  .colab-df-quickchart {\n",
              "    background-color: var(--bg-color);\n",
              "    border: none;\n",
              "    border-radius: 50%;\n",
              "    cursor: pointer;\n",
              "    display: none;\n",
              "    fill: var(--fill-color);\n",
              "    height: 32px;\n",
              "    padding: 0;\n",
              "    width: 32px;\n",
              "  }\n",
              "\n",
              "  .colab-df-quickchart:hover {\n",
              "    background-color: var(--hover-bg-color);\n",
              "    box-shadow: 0 1px 2px rgba(60, 64, 67, 0.3), 0 1px 3px 1px rgba(60, 64, 67, 0.15);\n",
              "    fill: var(--button-hover-fill-color);\n",
              "  }\n",
              "\n",
              "  .colab-df-quickchart-complete:disabled,\n",
              "  .colab-df-quickchart-complete:disabled:hover {\n",
              "    background-color: var(--disabled-bg-color);\n",
              "    fill: var(--disabled-fill-color);\n",
              "    box-shadow: none;\n",
              "  }\n",
              "\n",
              "  .colab-df-spinner {\n",
              "    border: 2px solid var(--fill-color);\n",
              "    border-color: transparent;\n",
              "    border-bottom-color: var(--fill-color);\n",
              "    animation:\n",
              "      spin 1s steps(1) infinite;\n",
              "  }\n",
              "\n",
              "  @keyframes spin {\n",
              "    0% {\n",
              "      border-color: transparent;\n",
              "      border-bottom-color: var(--fill-color);\n",
              "      border-left-color: var(--fill-color);\n",
              "    }\n",
              "    20% {\n",
              "      border-color: transparent;\n",
              "      border-left-color: var(--fill-color);\n",
              "      border-top-color: var(--fill-color);\n",
              "    }\n",
              "    30% {\n",
              "      border-color: transparent;\n",
              "      border-left-color: var(--fill-color);\n",
              "      border-top-color: var(--fill-color);\n",
              "      border-right-color: var(--fill-color);\n",
              "    }\n",
              "    40% {\n",
              "      border-color: transparent;\n",
              "      border-right-color: var(--fill-color);\n",
              "      border-top-color: var(--fill-color);\n",
              "    }\n",
              "    60% {\n",
              "      border-color: transparent;\n",
              "      border-right-color: var(--fill-color);\n",
              "    }\n",
              "    80% {\n",
              "      border-color: transparent;\n",
              "      border-right-color: var(--fill-color);\n",
              "      border-bottom-color: var(--fill-color);\n",
              "    }\n",
              "    90% {\n",
              "      border-color: transparent;\n",
              "      border-bottom-color: var(--fill-color);\n",
              "    }\n",
              "  }\n",
              "</style>\n",
              "\n",
              "  <script>\n",
              "    async function quickchart(key) {\n",
              "      const quickchartButtonEl =\n",
              "        document.querySelector('#' + key + ' button');\n",
              "      quickchartButtonEl.disabled = true;  // To prevent multiple clicks.\n",
              "      quickchartButtonEl.classList.add('colab-df-spinner');\n",
              "      try {\n",
              "        const charts = await google.colab.kernel.invokeFunction(\n",
              "            'suggestCharts', [key], {});\n",
              "      } catch (error) {\n",
              "        console.error('Error during call to suggestCharts:', error);\n",
              "      }\n",
              "      quickchartButtonEl.classList.remove('colab-df-spinner');\n",
              "      quickchartButtonEl.classList.add('colab-df-quickchart-complete');\n",
              "    }\n",
              "    (() => {\n",
              "      let quickchartButtonEl =\n",
              "        document.querySelector('#df-b1176440-19ad-4bcb-923a-47198da3b1ea button');\n",
              "      quickchartButtonEl.style.display =\n",
              "        google.colab.kernel.accessAllowed ? 'block' : 'none';\n",
              "    })();\n",
              "  </script>\n",
              "</div>\n",
              "\n",
              "    </div>\n",
              "  </div>\n"
            ],
            "application/vnd.google.colaboratory.intrinsic+json": {
              "type": "dataframe",
              "summary": "{\n  \"name\": \"X\",\n  \"rows\": 3,\n  \"fields\": [\n    {\n      \"column\": \"Pregnancies\",\n      \"properties\": {\n        \"dtype\": \"number\",\n        \"std\": 3,\n        \"min\": 3,\n        \"max\": 9,\n        \"num_unique_values\": 2,\n        \"samples\": [\n          3,\n          9\n        ],\n        \"semantic_type\": \"\",\n        \"description\": \"\"\n      }\n    },\n    {\n      \"column\": \"PlasmaGlucose\",\n      \"properties\": {\n        \"dtype\": \"number\",\n        \"std\": 50,\n        \"min\": 58,\n        \"max\": 147,\n        \"num_unique_values\": 3,\n        \"samples\": [\n          58,\n          144\n        ],\n        \"semantic_type\": \"\",\n        \"description\": \"\"\n      }\n    },\n    {\n      \"column\": \"DiastolicBloodPressure\",\n      \"properties\": {\n        \"dtype\": \"number\",\n        \"std\": 13,\n        \"min\": 64,\n        \"max\": 91,\n        \"num_unique_values\": 3,\n        \"samples\": [\n          64,\n          74\n        ],\n        \"semantic_type\": \"\",\n        \"description\": \"\"\n      }\n    },\n    {\n      \"column\": \"TricepsThickness\",\n      \"properties\": {\n        \"dtype\": \"number\",\n        \"std\": 2,\n        \"min\": 48,\n        \"max\": 53,\n        \"num_unique_values\": 2,\n        \"samples\": [\n          48,\n          53\n        ],\n        \"semantic_type\": \"\",\n        \"description\": \"\"\n      }\n    },\n    {\n      \"column\": \"SerumInsulin\",\n      \"properties\": {\n        \"dtype\": \"number\",\n        \"std\": 132,\n        \"min\": 79,\n        \"max\": 343,\n        \"num_unique_values\": 3,\n        \"samples\": [\n          343,\n          227\n        ],\n        \"semantic_type\": \"\",\n        \"description\": \"\"\n      }\n    },\n    {\n      \"column\": \"BMI\",\n      \"properties\": {\n        \"dtype\": \"number\",\n        \"std\": 1.0505782823180942,\n        \"min\": 30.00224539,\n        \"max\": 31.9397856,\n        \"num_unique_values\": 3,\n        \"samples\": [\n          30.26702854,\n          31.9397856\n        ],\n        \"semantic_type\": \"\",\n        \"description\": \"\"\n      }\n    },\n    {\n      \"column\": \"DiabetesPedigree\",\n      \"properties\": {\n        \"dtype\": \"number\",\n        \"std\": 0.2346752994455782,\n        \"min\": 0.895372919,\n        \"max\": 1.338985751,\n        \"num_unique_values\": 3,\n        \"samples\": [\n          1.338985751,\n          0.984426821\n        ],\n        \"semantic_type\": \"\",\n        \"description\": \"\"\n      }\n    },\n    {\n      \"column\": \"Age\",\n      \"properties\": {\n        \"dtype\": \"number\",\n        \"std\": 8,\n        \"min\": 23,\n        \"max\": 40,\n        \"num_unique_values\": 3,\n        \"samples\": [\n          23,\n          33\n        ],\n        \"semantic_type\": \"\",\n        \"description\": \"\"\n      }\n    }\n  ]\n}"
            }
          },
          "metadata": {},
          "execution_count": 3
        }
      ]
    },
    {
      "cell_type": "markdown",
      "source": [
        "## Preprocessing\n",
        "> With `CatBoost` we won't need to _encode_ categorical features, since `CatBoost` offers the functionality to handle categorical features for us. Hence,\n",
        "+ We'll only handle missing values(our dataset doesn't contain missing values, but for the sake of reference) and scale numeric features"
      ],
      "metadata": {
        "id": "Wv1pStCrg95M"
      }
    },
    {
      "cell_type": "code",
      "source": [
        "# import necessary libraries\n",
        "from sklearn.compose import make_column_transformer\n",
        "from sklearn.pipeline import make_pipeline\n",
        "from sklearn.impute import SimpleImputer\n",
        "from sklearn.preprocessing import StandardScaler"
      ],
      "metadata": {
        "id": "yXG5P-8xe-dn"
      },
      "execution_count": null,
      "outputs": []
    },
    {
      "cell_type": "code",
      "source": [
        "# numeric feature transformer\n",
        "num_transformer = make_pipeline(\n",
        "    # list of transformer objects to be applied\n",
        "    SimpleImputer(strategy='median'), # handle null values, if any\n",
        "    StandardScaler() # scale\n",
        ")\n",
        "\n",
        "# categorical feature transformer\n",
        "cat_transformer = make_pipeline(\n",
        "    # list of transformer objects to be applied\n",
        "    SimpleImputer(strategy='most_frequent') # handle null values, if any\n",
        ")\n",
        "\n",
        "# wrap the above transformers in a ColumnTransformer object\n",
        "preprocesser = make_column_transformer(\n",
        "    # (transformer, columns)\n",
        "    (num_transformer, num_feature_indices), # numeric transformer\n",
        "    (cat_transformer, cat_feature_indices) # categorical transformer\n",
        ")"
      ],
      "metadata": {
        "id": "M238pw5nijSy"
      },
      "execution_count": null,
      "outputs": []
    },
    {
      "cell_type": "markdown",
      "source": [
        "## Oversampling\n",
        "> Oversample the training set, as we'd done in the previous notebook"
      ],
      "metadata": {
        "id": "gqup-z-IazBk"
      }
    },
    {
      "cell_type": "markdown",
      "source": [
        "### Encode the `Age` column in `X_train`"
      ],
      "metadata": {
        "id": "hWyA4tXFfs1a"
      }
    },
    {
      "cell_type": "code",
      "source": [
        "# import OrdinalEncoder\n",
        "from sklearn.preprocessing import OrdinalEncoder\n",
        "\n",
        "# make a copy of X_train\n",
        "X_train_enc = X_train.copy()\n",
        "\n",
        "# OrdinalEncoder object\n",
        "encoder = OrdinalEncoder(handle_unknown = 'use_encoded_value',\n",
        "                         unknown_value=1000)\n",
        "\n",
        "# encode the Age column\n",
        "X_train_enc[['Age']] = encoder.fit_transform(X_train_enc[['Age']])"
      ],
      "metadata": {
        "id": "7TnWuoT1fsQT"
      },
      "execution_count": null,
      "outputs": []
    },
    {
      "cell_type": "markdown",
      "source": [
        "### Oversampling with [`SVMSMOTE`](https://imbalanced-learn.org/stable/references/generated/imblearn.over_sampling.SVMSMOTE.html)\n",
        "+ Oversampling the minority class; `1` using `SVMSMOTE` like we did in the previous notbook"
      ],
      "metadata": {
        "id": "0Dk6sDT3gI64"
      }
    },
    {
      "cell_type": "code",
      "source": [
        "%%time\n",
        "# import SVMSMOTE\n",
        "from imblearn.over_sampling import SVMSMOTE\n",
        "\n",
        "# create SVMSMOTE object\n",
        "svmsmote = SVMSMOTE(random_state=42)\n",
        "\n",
        "# resample\n",
        "X_res, y_res = svmsmote.fit_resample(X_train_enc, y_train)\n",
        "\n",
        "# inverse_transform the Age column\n",
        "X_res[['Age']] = encoder.inverse_transform(X_res[['Age']])"
      ],
      "metadata": {
        "colab": {
          "base_uri": "https://localhost:8080/"
        },
        "id": "up5e-nGcgjR1",
        "outputId": "93b2703c-4856-4cf5-e738-3c1f54d7a02f"
      },
      "execution_count": null,
      "outputs": [
        {
          "output_type": "stream",
          "name": "stdout",
          "text": [
            "CPU times: user 3.01 s, sys: 242 ms, total: 3.26 s\n",
            "Wall time: 3.4 s\n"
          ]
        }
      ]
    },
    {
      "cell_type": "markdown",
      "source": [
        "## Hyperparameter Optimization with [`Optuna`](https://optuna.readthedocs.io/en/stable/index.html)  \n",
        "> 📝 **Note**  \n",
        "> Optuna is an automatic hyperparameter optimization software framework, particularly designed for machine learning.\n",
        "+ I covered `Optuna` in a previous repository linked [`here`](https://github.com/Martinmbiro/Train-and-evaluate-regression-models)"
      ],
      "metadata": {
        "id": "X4Pj9O0FlQOh"
      }
    },
    {
      "cell_type": "markdown",
      "source": [
        "> 🔤 **Optuna Optimization Process**  \n",
        "+ Define an `objective` function (within which you invoke suggest methods of a [`Trial`](https://optuna.readthedocs.io/en/stable/reference/trial.html) object to generate hyperparameters)\n",
        "+ Create a [`study`](https://optuna.readthedocs.io/en/stable/reference/generated/optuna.study.Study.html#optuna.study.Study) and specify the `direction` of optimization\n",
        "+ `optimize` the `objective` function by specifying the number of [`trials`](https://optuna.readthedocs.io/en/stable/reference/trial.html)"
      ],
      "metadata": {
        "id": "79yHChgmbuvn"
      }
    },
    {
      "cell_type": "markdown",
      "source": [
        "### Install and import libraries"
      ],
      "metadata": {
        "id": "XJsukDDvbAc4"
      }
    },
    {
      "cell_type": "code",
      "source": [
        "# install optuna, catboost, optuna-integration\n",
        "!pip install optuna catboost optuna-integration"
      ],
      "metadata": {
        "id": "_GOOMd_KepiA"
      },
      "execution_count": null,
      "outputs": []
    },
    {
      "cell_type": "code",
      "source": [
        "import warnings\n",
        "# import optuna\n",
        "import optuna\n",
        "# adjust verbosity of optuna study:\n",
        "optuna.logging.set_verbosity(optuna.logging.WARNING)\n",
        "# catboost callback to prune unpromising trials\n",
        "from optuna.integration import CatBoostPruningCallback\n",
        "# suppress experimental warnings for CatBoostPruningCallaback\n",
        "warnings.filterwarnings('ignore',\n",
        "                        category=optuna.exceptions.ExperimentalWarning)\n",
        "\n",
        "# import CatBoostClassifier\n",
        "from catboost import CatBoostClassifier\n",
        "\n",
        "# stratified folds\n",
        "from sklearn.model_selection import StratifiedKFold\n",
        "# cross validation score\n",
        "from sklearn.model_selection import cross_val_score\n",
        "#numpy\n",
        "import numpy as np"
      ],
      "metadata": {
        "id": "t1yXuDd9bjMe"
      },
      "execution_count": null,
      "outputs": []
    },
    {
      "cell_type": "code",
      "source": [
        "'''\n",
        "  keep a pre-processed versions of X_test & X_train\n",
        "    for evaluation on early stopping\n",
        "'''\n",
        "X_test_processed = pd.DataFrame(preprocesser.fit_transform(X_test))\n",
        "X_res_processed = pd.DataFrame(preprocesser.fit_transform(X_res))\n",
        "\n",
        "# ensure that the Age column is an integer, and not a float by default\n",
        "X_test_processed[7] = X_test_processed[7].astype('int')\n",
        "X_res_processed[7] = X_res_processed[7].astype('int')"
      ],
      "metadata": {
        "id": "adLRl0_WkE2F"
      },
      "execution_count": null,
      "outputs": []
    },
    {
      "cell_type": "code",
      "source": [
        "# check to see changes\n",
        "X_res_processed.sample(3)"
      ],
      "metadata": {
        "colab": {
          "base_uri": "https://localhost:8080/",
          "height": 143
        },
        "id": "ufMB01Hyg7JS",
        "outputId": "17c891e1-3c23-4d6a-ee50-123ab0056684"
      },
      "execution_count": null,
      "outputs": [
        {
          "output_type": "execute_result",
          "data": {
            "text/plain": [
              "              0         1         2         3         4         5         6  \\\n",
              "10899  1.035636  0.671462 -0.712964 -0.888971  0.897985  0.209876 -0.796725   \n",
              "4641  -0.761593   0.20508  -0.83649 -1.295802 -0.883583  1.571064 -0.353462   \n",
              "9802   2.233789 -1.473895 -0.527675 -0.888971 -0.803594  1.592693 -0.674175   \n",
              "\n",
              "        7  \n",
              "10899  40  \n",
              "4641   22  \n",
              "9802   21  "
            ],
            "text/html": [
              "\n",
              "  <div id=\"df-c81219d4-1dbc-4177-98a2-ac9229c487ee\" class=\"colab-df-container\">\n",
              "    <div>\n",
              "<style scoped>\n",
              "    .dataframe tbody tr th:only-of-type {\n",
              "        vertical-align: middle;\n",
              "    }\n",
              "\n",
              "    .dataframe tbody tr th {\n",
              "        vertical-align: top;\n",
              "    }\n",
              "\n",
              "    .dataframe thead th {\n",
              "        text-align: right;\n",
              "    }\n",
              "</style>\n",
              "<table border=\"1\" class=\"dataframe\">\n",
              "  <thead>\n",
              "    <tr style=\"text-align: right;\">\n",
              "      <th></th>\n",
              "      <th>0</th>\n",
              "      <th>1</th>\n",
              "      <th>2</th>\n",
              "      <th>3</th>\n",
              "      <th>4</th>\n",
              "      <th>5</th>\n",
              "      <th>6</th>\n",
              "      <th>7</th>\n",
              "    </tr>\n",
              "  </thead>\n",
              "  <tbody>\n",
              "    <tr>\n",
              "      <th>10899</th>\n",
              "      <td>1.035636</td>\n",
              "      <td>0.671462</td>\n",
              "      <td>-0.712964</td>\n",
              "      <td>-0.888971</td>\n",
              "      <td>0.897985</td>\n",
              "      <td>0.209876</td>\n",
              "      <td>-0.796725</td>\n",
              "      <td>40</td>\n",
              "    </tr>\n",
              "    <tr>\n",
              "      <th>4641</th>\n",
              "      <td>-0.761593</td>\n",
              "      <td>0.20508</td>\n",
              "      <td>-0.83649</td>\n",
              "      <td>-1.295802</td>\n",
              "      <td>-0.883583</td>\n",
              "      <td>1.571064</td>\n",
              "      <td>-0.353462</td>\n",
              "      <td>22</td>\n",
              "    </tr>\n",
              "    <tr>\n",
              "      <th>9802</th>\n",
              "      <td>2.233789</td>\n",
              "      <td>-1.473895</td>\n",
              "      <td>-0.527675</td>\n",
              "      <td>-0.888971</td>\n",
              "      <td>-0.803594</td>\n",
              "      <td>1.592693</td>\n",
              "      <td>-0.674175</td>\n",
              "      <td>21</td>\n",
              "    </tr>\n",
              "  </tbody>\n",
              "</table>\n",
              "</div>\n",
              "    <div class=\"colab-df-buttons\">\n",
              "\n",
              "  <div class=\"colab-df-container\">\n",
              "    <button class=\"colab-df-convert\" onclick=\"convertToInteractive('df-c81219d4-1dbc-4177-98a2-ac9229c487ee')\"\n",
              "            title=\"Convert this dataframe to an interactive table.\"\n",
              "            style=\"display:none;\">\n",
              "\n",
              "  <svg xmlns=\"http://www.w3.org/2000/svg\" height=\"24px\" viewBox=\"0 -960 960 960\">\n",
              "    <path d=\"M120-120v-720h720v720H120Zm60-500h600v-160H180v160Zm220 220h160v-160H400v160Zm0 220h160v-160H400v160ZM180-400h160v-160H180v160Zm440 0h160v-160H620v160ZM180-180h160v-160H180v160Zm440 0h160v-160H620v160Z\"/>\n",
              "  </svg>\n",
              "    </button>\n",
              "\n",
              "  <style>\n",
              "    .colab-df-container {\n",
              "      display:flex;\n",
              "      gap: 12px;\n",
              "    }\n",
              "\n",
              "    .colab-df-convert {\n",
              "      background-color: #E8F0FE;\n",
              "      border: none;\n",
              "      border-radius: 50%;\n",
              "      cursor: pointer;\n",
              "      display: none;\n",
              "      fill: #1967D2;\n",
              "      height: 32px;\n",
              "      padding: 0 0 0 0;\n",
              "      width: 32px;\n",
              "    }\n",
              "\n",
              "    .colab-df-convert:hover {\n",
              "      background-color: #E2EBFA;\n",
              "      box-shadow: 0px 1px 2px rgba(60, 64, 67, 0.3), 0px 1px 3px 1px rgba(60, 64, 67, 0.15);\n",
              "      fill: #174EA6;\n",
              "    }\n",
              "\n",
              "    .colab-df-buttons div {\n",
              "      margin-bottom: 4px;\n",
              "    }\n",
              "\n",
              "    [theme=dark] .colab-df-convert {\n",
              "      background-color: #3B4455;\n",
              "      fill: #D2E3FC;\n",
              "    }\n",
              "\n",
              "    [theme=dark] .colab-df-convert:hover {\n",
              "      background-color: #434B5C;\n",
              "      box-shadow: 0px 1px 3px 1px rgba(0, 0, 0, 0.15);\n",
              "      filter: drop-shadow(0px 1px 2px rgba(0, 0, 0, 0.3));\n",
              "      fill: #FFFFFF;\n",
              "    }\n",
              "  </style>\n",
              "\n",
              "    <script>\n",
              "      const buttonEl =\n",
              "        document.querySelector('#df-c81219d4-1dbc-4177-98a2-ac9229c487ee button.colab-df-convert');\n",
              "      buttonEl.style.display =\n",
              "        google.colab.kernel.accessAllowed ? 'block' : 'none';\n",
              "\n",
              "      async function convertToInteractive(key) {\n",
              "        const element = document.querySelector('#df-c81219d4-1dbc-4177-98a2-ac9229c487ee');\n",
              "        const dataTable =\n",
              "          await google.colab.kernel.invokeFunction('convertToInteractive',\n",
              "                                                    [key], {});\n",
              "        if (!dataTable) return;\n",
              "\n",
              "        const docLinkHtml = 'Like what you see? Visit the ' +\n",
              "          '<a target=\"_blank\" href=https://colab.research.google.com/notebooks/data_table.ipynb>data table notebook</a>'\n",
              "          + ' to learn more about interactive tables.';\n",
              "        element.innerHTML = '';\n",
              "        dataTable['output_type'] = 'display_data';\n",
              "        await google.colab.output.renderOutput(dataTable, element);\n",
              "        const docLink = document.createElement('div');\n",
              "        docLink.innerHTML = docLinkHtml;\n",
              "        element.appendChild(docLink);\n",
              "      }\n",
              "    </script>\n",
              "  </div>\n",
              "\n",
              "\n",
              "<div id=\"df-5065f9a2-0bec-4e21-8a86-ce662e8d62fb\">\n",
              "  <button class=\"colab-df-quickchart\" onclick=\"quickchart('df-5065f9a2-0bec-4e21-8a86-ce662e8d62fb')\"\n",
              "            title=\"Suggest charts\"\n",
              "            style=\"display:none;\">\n",
              "\n",
              "<svg xmlns=\"http://www.w3.org/2000/svg\" height=\"24px\"viewBox=\"0 0 24 24\"\n",
              "     width=\"24px\">\n",
              "    <g>\n",
              "        <path d=\"M19 3H5c-1.1 0-2 .9-2 2v14c0 1.1.9 2 2 2h14c1.1 0 2-.9 2-2V5c0-1.1-.9-2-2-2zM9 17H7v-7h2v7zm4 0h-2V7h2v10zm4 0h-2v-4h2v4z\"/>\n",
              "    </g>\n",
              "</svg>\n",
              "  </button>\n",
              "\n",
              "<style>\n",
              "  .colab-df-quickchart {\n",
              "      --bg-color: #E8F0FE;\n",
              "      --fill-color: #1967D2;\n",
              "      --hover-bg-color: #E2EBFA;\n",
              "      --hover-fill-color: #174EA6;\n",
              "      --disabled-fill-color: #AAA;\n",
              "      --disabled-bg-color: #DDD;\n",
              "  }\n",
              "\n",
              "  [theme=dark] .colab-df-quickchart {\n",
              "      --bg-color: #3B4455;\n",
              "      --fill-color: #D2E3FC;\n",
              "      --hover-bg-color: #434B5C;\n",
              "      --hover-fill-color: #FFFFFF;\n",
              "      --disabled-bg-color: #3B4455;\n",
              "      --disabled-fill-color: #666;\n",
              "  }\n",
              "\n",
              "  .colab-df-quickchart {\n",
              "    background-color: var(--bg-color);\n",
              "    border: none;\n",
              "    border-radius: 50%;\n",
              "    cursor: pointer;\n",
              "    display: none;\n",
              "    fill: var(--fill-color);\n",
              "    height: 32px;\n",
              "    padding: 0;\n",
              "    width: 32px;\n",
              "  }\n",
              "\n",
              "  .colab-df-quickchart:hover {\n",
              "    background-color: var(--hover-bg-color);\n",
              "    box-shadow: 0 1px 2px rgba(60, 64, 67, 0.3), 0 1px 3px 1px rgba(60, 64, 67, 0.15);\n",
              "    fill: var(--button-hover-fill-color);\n",
              "  }\n",
              "\n",
              "  .colab-df-quickchart-complete:disabled,\n",
              "  .colab-df-quickchart-complete:disabled:hover {\n",
              "    background-color: var(--disabled-bg-color);\n",
              "    fill: var(--disabled-fill-color);\n",
              "    box-shadow: none;\n",
              "  }\n",
              "\n",
              "  .colab-df-spinner {\n",
              "    border: 2px solid var(--fill-color);\n",
              "    border-color: transparent;\n",
              "    border-bottom-color: var(--fill-color);\n",
              "    animation:\n",
              "      spin 1s steps(1) infinite;\n",
              "  }\n",
              "\n",
              "  @keyframes spin {\n",
              "    0% {\n",
              "      border-color: transparent;\n",
              "      border-bottom-color: var(--fill-color);\n",
              "      border-left-color: var(--fill-color);\n",
              "    }\n",
              "    20% {\n",
              "      border-color: transparent;\n",
              "      border-left-color: var(--fill-color);\n",
              "      border-top-color: var(--fill-color);\n",
              "    }\n",
              "    30% {\n",
              "      border-color: transparent;\n",
              "      border-left-color: var(--fill-color);\n",
              "      border-top-color: var(--fill-color);\n",
              "      border-right-color: var(--fill-color);\n",
              "    }\n",
              "    40% {\n",
              "      border-color: transparent;\n",
              "      border-right-color: var(--fill-color);\n",
              "      border-top-color: var(--fill-color);\n",
              "    }\n",
              "    60% {\n",
              "      border-color: transparent;\n",
              "      border-right-color: var(--fill-color);\n",
              "    }\n",
              "    80% {\n",
              "      border-color: transparent;\n",
              "      border-right-color: var(--fill-color);\n",
              "      border-bottom-color: var(--fill-color);\n",
              "    }\n",
              "    90% {\n",
              "      border-color: transparent;\n",
              "      border-bottom-color: var(--fill-color);\n",
              "    }\n",
              "  }\n",
              "</style>\n",
              "\n",
              "  <script>\n",
              "    async function quickchart(key) {\n",
              "      const quickchartButtonEl =\n",
              "        document.querySelector('#' + key + ' button');\n",
              "      quickchartButtonEl.disabled = true;  // To prevent multiple clicks.\n",
              "      quickchartButtonEl.classList.add('colab-df-spinner');\n",
              "      try {\n",
              "        const charts = await google.colab.kernel.invokeFunction(\n",
              "            'suggestCharts', [key], {});\n",
              "      } catch (error) {\n",
              "        console.error('Error during call to suggestCharts:', error);\n",
              "      }\n",
              "      quickchartButtonEl.classList.remove('colab-df-spinner');\n",
              "      quickchartButtonEl.classList.add('colab-df-quickchart-complete');\n",
              "    }\n",
              "    (() => {\n",
              "      let quickchartButtonEl =\n",
              "        document.querySelector('#df-5065f9a2-0bec-4e21-8a86-ce662e8d62fb button');\n",
              "      quickchartButtonEl.style.display =\n",
              "        google.colab.kernel.accessAllowed ? 'block' : 'none';\n",
              "    })();\n",
              "  </script>\n",
              "</div>\n",
              "\n",
              "    </div>\n",
              "  </div>\n"
            ],
            "application/vnd.google.colaboratory.intrinsic+json": {
              "type": "dataframe",
              "repr_error": "0"
            }
          },
          "metadata": {},
          "execution_count": 12
        }
      ]
    },
    {
      "cell_type": "markdown",
      "source": [
        "### Define `objective` function"
      ],
      "metadata": {
        "id": "BAJCpeoYbGch"
      }
    },
    {
      "cell_type": "code",
      "source": [
        "# define objective function to optimize later\n",
        "def objective(trial):\n",
        "  params = {\n",
        "      'early_stopping_rounds': 20,\n",
        "      'eval_metric': 'Recall',\n",
        "      'iterations': 1000,\n",
        "      'learning_rate': trial.suggest_float('learning_rate', 1e-3, 0.1, log=True),\n",
        "      'depth': trial.suggest_int('depth', 4, 10),\n",
        "      'l2_leaf_reg': trial.suggest_float('l2_leaf_reg', 3, 6),\n",
        "      'random_strength': trial.suggest_float('random_strength', 0.5, 1),\n",
        "      'colsample_bylevel': trial.suggest_float('colsample_bylevel', 0.5, 1),\n",
        "      'subsample': trial.suggest_float('subsample', 0.5, 1),\n",
        "      'min_data_in_leaf': trial.suggest_int('min_data_in_leaf', 1, 20)\n",
        "  }\n",
        "\n",
        "  # pruning callback\n",
        "  pruning_callback = CatBoostPruningCallback(trial=trial, metric='Recall')\n",
        "\n",
        "  # a dict containing values to be passed to the fit method\n",
        "  # of CatBoostClassifier\n",
        "  pass_to_fit = {\n",
        "      'eval_set': (X_test_processed, y_test),\n",
        "      'callbacks': [pruning_callback]\n",
        "  }\n",
        "\n",
        "  # model initialized with above parameters\n",
        "  model = CatBoostClassifier(**params, cat_features=cat_feature_indices)\n",
        "\n",
        "  # skf with 3 folds\n",
        "  skf = StratifiedKFold(n_splits=3,shuffle=True)\n",
        "\n",
        "  '''\n",
        "    Perform cross validation with the parameters chosen, then return\n",
        "      the list of metrics gotten from cross validation\n",
        "  '''\n",
        "  scores = cross_val_score(model, X_res_processed, y_res, cv=skf, n_jobs=-1,\n",
        "                           fit_params = pass_to_fit,\n",
        "                           scoring='recall_weighted')\n",
        "\n",
        "  # return the mean scores from cross validation\n",
        "  return np.mean(scores)"
      ],
      "metadata": {
        "id": "moOn56d5kuj6"
      },
      "execution_count": null,
      "outputs": []
    },
    {
      "cell_type": "markdown",
      "source": [
        "### Create and optimize objective function"
      ],
      "metadata": {
        "id": "1gDqaSa4euu0"
      }
    },
    {
      "cell_type": "code",
      "source": [
        "%%time\n",
        "'''\n",
        "  create a study, and since a higher recall is better,\n",
        "    set direction to maximize\n",
        "'''\n",
        "study = optuna.create_study(sampler=optuna.samplers.TPESampler(seed=42),\n",
        "                            direction='maximize')\n",
        "\n",
        "# optimize\n",
        "study.optimize(objective, n_trials=30)"
      ],
      "metadata": {
        "colab": {
          "base_uri": "https://localhost:8080/"
        },
        "id": "geZbpTpye0Xq",
        "outputId": "f369fa56-65bf-40f8-978a-3edf224e322f"
      },
      "execution_count": null,
      "outputs": [
        {
          "output_type": "stream",
          "name": "stdout",
          "text": [
            "CPU times: user 3.23 s, sys: 252 ms, total: 3.48 s\n",
            "Wall time: 1min 52s\n"
          ]
        }
      ]
    },
    {
      "cell_type": "code",
      "source": [
        "# get best parameters\n",
        "best = study.best_params\n",
        "\n",
        "# print\n",
        "print(f'Best score: {study.best_value}\\n\\nBest Parameters:')\n",
        "print('----------------')\n",
        "\n",
        "for key, value in best.items():\n",
        "  print(f'{key}: {value}')"
      ],
      "metadata": {
        "id": "e9rS2cj5bWOs",
        "colab": {
          "base_uri": "https://localhost:8080/"
        },
        "outputId": "d02f9e7f-03bc-418a-abb8-663019b90d0d"
      },
      "execution_count": null,
      "outputs": [
        {
          "output_type": "stream",
          "name": "stdout",
          "text": [
            "Best score: 0.943327630453379\n",
            "\n",
            "Best Parameters:\n",
            "----------------\n",
            "learning_rate: 0.09071731730117336\n",
            "depth: 8\n",
            "l2_leaf_reg: 5.908611332363597\n",
            "random_strength: 0.5089809378074097\n",
            "colsample_bylevel: 0.8259332753890891\n",
            "subsample: 0.9538323976412588\n",
            "min_data_in_leaf: 3\n"
          ]
        }
      ]
    },
    {
      "cell_type": "markdown",
      "source": [
        "## Modelling"
      ],
      "metadata": {
        "id": "7ef3VQEegvCR"
      }
    },
    {
      "cell_type": "code",
      "source": [
        "# import pipeline\n",
        "from sklearn.pipeline import Pipeline"
      ],
      "metadata": {
        "id": "IRTZUWQ9ejR6"
      },
      "execution_count": null,
      "outputs": []
    },
    {
      "cell_type": "code",
      "source": [
        "%%time\n",
        "# pipeline with classifier + preprocesser\n",
        "cat_model = Pipeline(steps=[\n",
        "    #(name, tranformer / estimator)\n",
        "    ('preprocess', preprocesser), # preprocess\n",
        "    ('cbc', CatBoostClassifier(**best,\n",
        "                               cat_features=cat_feature_indices,\n",
        "                               random_state=72,\n",
        "                               early_stopping_rounds=50,\n",
        "                               iterations=200,\n",
        "                               eval_metric='Recall')) # estimator\n",
        "])\n",
        "\n",
        "# train\n",
        "cat_model.fit(X_res, y_res,\n",
        "              #cbc__eval_set = (X_test_processed, y_test),\n",
        "              cbc__verbose=10)\n",
        "\n",
        "# predict\n",
        "y_pred = cat_model.predict(X_test)"
      ],
      "metadata": {
        "id": "AQNtHtPngxMa",
        "colab": {
          "base_uri": "https://localhost:8080/"
        },
        "outputId": "6f6d1fc9-ccdf-412b-906c-4c7d3910754e"
      },
      "execution_count": null,
      "outputs": [
        {
          "output_type": "stream",
          "name": "stdout",
          "text": [
            "0:\tlearn: 0.9124608\ttotal: 75.7ms\tremaining: 15.1s\n",
            "10:\tlearn: 0.9332763\ttotal: 645ms\tremaining: 11.1s\n",
            "20:\tlearn: 0.9472484\ttotal: 1.21s\tremaining: 10.3s\n",
            "30:\tlearn: 0.9542344\ttotal: 1.74s\tremaining: 9.47s\n",
            "40:\tlearn: 0.9597947\ttotal: 2.25s\tremaining: 8.75s\n",
            "50:\tlearn: 0.9617907\ttotal: 2.76s\tremaining: 8.08s\n",
            "60:\tlearn: 0.9633590\ttotal: 3.25s\tremaining: 7.42s\n",
            "70:\tlearn: 0.9652124\ttotal: 3.9s\tremaining: 7.08s\n",
            "80:\tlearn: 0.9673510\ttotal: 4.51s\tremaining: 6.62s\n",
            "90:\tlearn: 0.9687767\ttotal: 5.13s\tremaining: 6.14s\n",
            "100:\tlearn: 0.9700599\ttotal: 5.68s\tremaining: 5.57s\n",
            "110:\tlearn: 0.9717707\ttotal: 6.2s\tremaining: 4.97s\n",
            "120:\tlearn: 0.9743370\ttotal: 6.77s\tremaining: 4.42s\n",
            "130:\tlearn: 0.9756202\ttotal: 7.38s\tremaining: 3.89s\n",
            "140:\tlearn: 0.9770459\ttotal: 8.32s\tremaining: 3.48s\n",
            "150:\tlearn: 0.9786142\ttotal: 9.35s\tremaining: 3.03s\n",
            "160:\tlearn: 0.9807528\ttotal: 10.2s\tremaining: 2.48s\n",
            "170:\tlearn: 0.9820359\ttotal: 11.8s\tremaining: 1.99s\n",
            "180:\tlearn: 0.9818934\ttotal: 12.4s\tremaining: 1.3s\n",
            "190:\tlearn: 0.9836042\ttotal: 12.9s\tremaining: 607ms\n",
            "199:\tlearn: 0.9840319\ttotal: 13.3s\tremaining: 0us\n",
            "CPU times: user 9.68 s, sys: 674 ms, total: 10.4 s\n",
            "Wall time: 13.6 s\n"
          ]
        }
      ]
    },
    {
      "cell_type": "markdown",
      "source": [
        "## Evaluation  \n",
        "> For in-depth coverage on classification metrics, see my repository linked [`here`](https://github.com/Martinmbiro/Imbalanced-Datasets-and-Evaluating-Classification-Models)"
      ],
      "metadata": {
        "id": "HOIV5yeGiUug"
      }
    },
    {
      "cell_type": "code",
      "source": [
        "# import necessary libraries\n",
        "from sklearn.metrics import RocCurveDisplay\n",
        "import matplotlib.pyplot as plt\n",
        "from sklearn.metrics import ConfusionMatrixDisplay\n",
        "from sklearn.metrics import classification_report"
      ],
      "metadata": {
        "id": "rPrXRPQ_i0MU"
      },
      "execution_count": null,
      "outputs": []
    },
    {
      "cell_type": "code",
      "source": [
        "# define function to plot confusion_matrix\n",
        "def plot_confusion_matrix(y_test, y_pred):\n",
        "  # specify stylesheet\n",
        "  plt.style.use('fast')\n",
        "\n",
        "  # define figure and Axes\n",
        "  fig, ax = plt.subplots(figsize=(3, 3), layout='constrained')\n",
        "\n",
        "  # plot confusion_matrix\n",
        "  ConfusionMatrixDisplay.from_predictions(y_test, y_pred,\n",
        "                                          cmap='Blues',\n",
        "                                          colorbar=False,\n",
        "                                          ax=ax)\n",
        "\n",
        "  # move xticks and xlabel to top\n",
        "  ax.xaxis.tick_top()\n",
        "  ax.xaxis.set_label_position('top')\n",
        "\n",
        "  # modify xlabel and ylabel colors\n",
        "  ax.set_ylabel('Actual Labels', weight='black', color='#003262')\n",
        "  ax.set_xlabel('Predicted Labels', weight='black', color='#E52B50')\n",
        "\n",
        "  plt.show()"
      ],
      "metadata": {
        "id": "2HSd2v0Ki9se"
      },
      "execution_count": null,
      "outputs": []
    },
    {
      "cell_type": "code",
      "source": [
        "# define function for plotting ROC curve and displaying AUC on legend\n",
        "def plot_roc_curve(model, X_test, y_test):\n",
        "  # specify figure and Axes\n",
        "  fig, ax = plt.subplots(figsize=(3.7, 3.7), layout='constrained')\n",
        "\n",
        "  # plot roc_curve\n",
        "  RocCurveDisplay.from_estimator(model, X_test, y_test,\n",
        "                                  drop_intermediate=False,\n",
        "                                  plot_chance_level=False,\n",
        "                                  pos_label=1,\n",
        "                                  name = 'Model',\n",
        "                                  color='#3457d5', linewidth=1.6,\n",
        "                                  ax=ax)\n",
        "  # title and labels:\n",
        "  ax.set_ylabel('True Positive Rate', weight='black')\n",
        "  ax.set_xlabel('False Positive Rate', weight='black')\n",
        "  ax.set_title('ROC Curve & AUC (On the Legend)', fontsize=10.5)\n",
        "  # legend fontsize\n",
        "  ax.legend(fontsize=9)\n",
        "\n",
        "  plt.show()"
      ],
      "metadata": {
        "id": "2aA8NVxCi9nt"
      },
      "execution_count": null,
      "outputs": []
    },
    {
      "cell_type": "markdown",
      "source": [
        "### Visualize `confusion_matrix` using [`ConfusionMatrixDisplay`](https://scikit-learn.org/stable/modules/generated/sklearn.metrics.ConfusionMatrixDisplay.html)\n"
      ],
      "metadata": {
        "id": "HndAPMmciYkV"
      }
    },
    {
      "cell_type": "code",
      "source": [
        "plot_confusion_matrix(y_test, y_pred)"
      ],
      "metadata": {
        "colab": {
          "base_uri": "https://localhost:8080/",
          "height": 328
        },
        "id": "bgGd9-BWiX28",
        "outputId": "08890898-3797-407d-a37e-faf3abf51a10"
      },
      "execution_count": null,
      "outputs": [
        {
          "output_type": "display_data",
          "data": {
            "text/plain": [
              "<Figure size 300x300 with 1 Axes>"
            ],
            "image/png": "[encoded data removed]"
          },
          "metadata": {}
        }
      ]
    },
    {
      "cell_type": "markdown",
      "source": [
        "### [`classification_report`](https://scikit-learn.org/stable/modules/generated/sklearn.metrics.classification_report.html)"
      ],
      "metadata": {
        "id": "S8o3QmM9jIRx"
      }
    },
    {
      "cell_type": "code",
      "source": [
        "print(classification_report(y_test, y_pred))"
      ],
      "metadata": {
        "colab": {
          "base_uri": "https://localhost:8080/"
        },
        "id": "piJHfizmjPvb",
        "outputId": "39e228f5-dc91-4c25-d6fd-84ea609c42a6"
      },
      "execution_count": null,
      "outputs": [
        {
          "output_type": "stream",
          "name": "stdout",
          "text": [
            "              precision    recall  f1-score   support\n",
            "\n",
            "           0       0.97      0.95      0.96      2986\n",
            "           1       0.90      0.95      0.92      1514\n",
            "\n",
            "    accuracy                           0.95      4500\n",
            "   macro avg       0.94      0.95      0.94      4500\n",
            "weighted avg       0.95      0.95      0.95      4500\n",
            "\n"
          ]
        }
      ]
    },
    {
      "cell_type": "markdown",
      "source": [
        "### Visualize [`roc_curve`](https://scikit-learn.org/stable/modules/generated/sklearn.metrics.roc_curve.html#sklearn.metrics.roc_curve) and [`roc_auc_score`](https://scikit-learn.org/stable/modules/generated/sklearn.metrics.roc_auc_score.html#sklearn.metrics.roc_auc_score)\n",
        "> ❗ **Note**\n",
        "+ This implementation of [`roc_curve`](https://scikit-learn.org/stable/modules/generated/sklearn.metrics.roc_curve.html#sklearn.metrics.roc_curve) is restricted to the binary classification task"
      ],
      "metadata": {
        "id": "lTO_gNEUjT-Z"
      }
    },
    {
      "cell_type": "code",
      "source": [
        "plot_roc_curve(cat_model, X_test, y_test)"
      ],
      "metadata": {
        "colab": {
          "base_uri": "https://localhost:8080/",
          "height": 398
        },
        "id": "1yWtxGyujWQp",
        "outputId": "0e1b1aaa-1562-464e-f889-ea9cfe303980"
      },
      "execution_count": null,
      "outputs": [
        {
          "output_type": "display_data",
          "data": {
            "text/plain": [
              "<Figure size 370x370 with 1 Axes>"
            ],
            "image/png": "[encoded data removed]"
          },
          "metadata": {}
        }
      ]
    },
    {
      "cell_type": "markdown",
      "source": [
        "> 👏 **Bam!**  \n",
        "\n",
        "> Everything looking much better this far!\n",
        "+ `FN` have significantly reduced and `recall` significantly improved as well.\n",
        "+ It's time we saved the model"
      ],
      "metadata": {
        "id": "B5tO6lG8cWF-"
      }
    },
    {
      "cell_type": "markdown",
      "source": [
        "## Save the model  \n",
        "> Saving the model for inferencing"
      ],
      "metadata": {
        "id": "0PCTTpi8aJ7u"
      }
    },
    {
      "cell_type": "markdown",
      "source": [
        "### Dump"
      ],
      "metadata": {
        "id": "-VFX8EIMiigM"
      }
    },
    {
      "cell_type": "code",
      "source": [
        "# import joblib\n",
        "import joblib\n",
        "\n",
        "filename = 'diabetes_model.pkl'\n",
        "joblib.dump(cat_model, filename)"
      ],
      "metadata": {
        "colab": {
          "base_uri": "https://localhost:8080/"
        },
        "id": "TcRFcOiDaL8n",
        "outputId": "6eb094b4-1463-4dd5-c8e6-937ac5894a46"
      },
      "execution_count": null,
      "outputs": [
        {
          "output_type": "execute_result",
          "data": {
            "text/plain": [
              "['diabetes_model.pkl']"
            ]
          },
          "metadata": {},
          "execution_count": 173
        }
      ]
    },
    {
      "cell_type": "markdown",
      "source": [
        "### Use the model for inferencing  \n",
        "> 📝 **Note**\n",
        "+ The model accepts an array of feature arrays  \n",
        "+ Hence, one can predict the classes of multiple patients in a single call"
      ],
      "metadata": {
        "id": "qhqf2J5HilFV"
      }
    },
    {
      "cell_type": "code",
      "source": [
        "# load the model\n",
        "model = joblib.load(filename)"
      ],
      "metadata": {
        "id": "NCE8_RFyksKa"
      },
      "execution_count": null,
      "outputs": []
    },
    {
      "cell_type": "code",
      "source": [
        "\n",
        "X_new = np.array([[2,180,74,24,21,23.9091702,1.488172308,22]])\n",
        "\n",
        "# turn the array into a dataframe\n",
        "X_new = pd.DataFrame(X_new, columns=features)\n",
        "X_new['Age'] = X_new['Age'].astype('int')"
      ],
      "metadata": {
        "id": "SYsCCt8xioCM"
      },
      "execution_count": null,
      "outputs": []
    },
    {
      "cell_type": "code",
      "source": [
        "# get a prediction\n",
        "print(f'Predicted class is: {model.predict(X_new)[0]}')"
      ],
      "metadata": {
        "colab": {
          "base_uri": "https://localhost:8080/"
        },
        "id": "ivpvjKmIkcqs",
        "outputId": "82bdfeb2-761f-442c-850f-2767eab60c52"
      },
      "execution_count": null,
      "outputs": [
        {
          "output_type": "stream",
          "name": "stdout",
          "text": [
            "Predicted class is: 1\n"
          ]
        }
      ]
    },
    {
      "cell_type": "markdown",
      "source": [
        "> 🌱 **Future improvements**  \n",
        "\n",
        "> A number of things can be done to refactor the code in future\n",
        "+ Eliminate `dataframes` from the pre-processing `pipeline` and all workings of the model. Had me writing significantly more code. In the coming notebooks, I'll be working purely with `numpy.ndarray` instead  \n",
        "+ Implement `ROC` curve tuning with [`TunedThresholdClassifierCV`](https://scikit-learn.org/stable/modules/generated/sklearn.model_selection.TunedThresholdClassifierCV.html#sklearn.model_selection.TunedThresholdClassifierCV). During the time of making this notebook, I got an error every time I tried importing the class! 😿💔\n",
        "+ Work with `CatBoost` [`Pool`](https://catboost.ai/en/docs/concepts/python-reference_pool) class to harness the power of `CatBoost` data processing"
      ],
      "metadata": {
        "id": "68xZE4PjehjE"
      }
    },
    {
      "cell_type": "markdown",
      "source": [
        "> ▶️ **Up Next**  \n",
        "\n",
        "> There's no rest for the weary 💔\n",
        "+ So we're starting on _multiclass classification_ in the next notebook"
      ],
      "metadata": {
        "id": "3HgiyJDcbRrk"
      }
    }
  ]
}